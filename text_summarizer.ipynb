{
 "cells": [
  {
   "cell_type": "code",
   "execution_count": 1,
   "id": "4dfae8f5",
   "metadata": {},
   "outputs": [],
   "source": [
    "## for data\n",
    "#import datasets\n",
    "import pandas as pd  #(0.25.1)\n",
    "import numpy  #(1.16.4)\n",
    "## for plotting\n",
    "import matplotlib.pyplot as plt  #(3.1.2)\n",
    "import seaborn as sns  #(0.9.0)\n",
    "## for preprocessing\n",
    "import re\n",
    "import nltk  #(3.4.5)\n",
    "import contractions  #(0.0.18)\n",
    "## for textrank\n",
    "#import gensim  #(3.8.1)\n",
    "## for evaluation\n",
    "import rouge  #(1.0.0)\n",
    "import difflib\n",
    "## for seq2seq\n",
    "from tensorflow.keras import callbacks, models, layers, preprocessing as kprocessing #(2.6.0)\n",
    "## for bart\n",
    "import transformers  #(3.0.1)"
   ]
  },
  {
   "cell_type": "code",
   "execution_count": 2,
   "id": "c524afec",
   "metadata": {},
   "outputs": [
    {
     "data": {
      "text/plain": [
       "(107642, 7)"
      ]
     },
     "execution_count": 2,
     "metadata": {},
     "output_type": "execute_result"
    }
   ],
   "source": [
    "# encoding: utf-8\n",
    "## load the full dataset of 300k articles\n",
    "dataset = pd.read_csv(\"F:/Higher Study/MSc in Data science/Thesis/Coding/Data/newsdata_1.csv\")\n",
    "dataset.shape"
   ]
  },
  {
   "cell_type": "code",
   "execution_count": 3,
   "id": "2397ced6",
   "metadata": {},
   "outputs": [],
   "source": [
    "dataset = dataset.drop(['id','news_id','category','date', 'title'], axis = 1)"
   ]
  },
  {
   "cell_type": "code",
   "execution_count": 4,
   "id": "60f5fb6d",
   "metadata": {},
   "outputs": [
    {
     "data": {
      "text/html": [
       "<div>\n",
       "<style scoped>\n",
       "    .dataframe tbody tr th:only-of-type {\n",
       "        vertical-align: middle;\n",
       "    }\n",
       "\n",
       "    .dataframe tbody tr th {\n",
       "        vertical-align: top;\n",
       "    }\n",
       "\n",
       "    .dataframe thead th {\n",
       "        text-align: right;\n",
       "    }\n",
       "</style>\n",
       "<table border=\"1\" class=\"dataframe\">\n",
       "  <thead>\n",
       "    <tr style=\"text-align: right;\">\n",
       "      <th></th>\n",
       "      <th>y</th>\n",
       "      <th>text</th>\n",
       "    </tr>\n",
       "  </thead>\n",
       "  <tbody>\n",
       "    <tr>\n",
       "      <th>107641</th>\n",
       "      <td>রংপুর নগরীর প্রাণকেন্দ্র দিয়ে বয়ে যাওয়া শ্যামা...</td>\n",
       "      <td>রংপুর নগরীর প্রাণকেন্দ্র দিয়ে বয়ে যাওয়া শ্যাম...</td>\n",
       "    </tr>\n",
       "  </tbody>\n",
       "</table>\n",
       "</div>"
      ],
      "text/plain": [
       "                                                        y  \\\n",
       "107641  রংপুর নগরীর প্রাণকেন্দ্র দিয়ে বয়ে যাওয়া শ্যামা...   \n",
       "\n",
       "                                                     text  \n",
       "107641   রংপুর নগরীর প্রাণকেন্দ্র দিয়ে বয়ে যাওয়া শ্যাম...  "
      ]
     },
     "execution_count": 4,
     "metadata": {},
     "output_type": "execute_result"
    }
   ],
   "source": [
    "dtf = pd.DataFrame(dataset).rename(columns = {\"article\":\"text\", \"description\":\"y\"})\n",
    "dtf.tail(1)"
   ]
  },
  {
   "cell_type": "code",
   "execution_count": 5,
   "id": "b0c54910",
   "metadata": {},
   "outputs": [
    {
     "name": "stdout",
     "output_type": "stream",
     "text": [
      "<class 'pandas.core.frame.DataFrame'>\n",
      "RangeIndex: 107642 entries, 0 to 107641\n",
      "Data columns (total 2 columns):\n",
      " #   Column  Non-Null Count   Dtype \n",
      "---  ------  --------------   ----- \n",
      " 0   y       107641 non-null  object\n",
      " 1   text    106825 non-null  object\n",
      "dtypes: object(2)\n",
      "memory usage: 1.6+ MB\n"
     ]
    }
   ],
   "source": [
    "dtf.info()"
   ]
  },
  {
   "cell_type": "code",
   "execution_count": 6,
   "id": "4af76f72",
   "metadata": {},
   "outputs": [
    {
     "name": "stdout",
     "output_type": "stream",
     "text": [
      "--- Full text ---\n",
      " একুশে পদকপ্রাপ্ত বরেণ্য নজরুল সংগীতশিল্পী ও স্বাধীনতা সংগ্রামের কণ্ঠযোদ্ধা শাহীন সামাদের উপস্থাপনায় আসছে বিজয় দিবস উপলক্ষে বাংলাদেশ টেলিভিশনে প্রচারের জন্য নির্মিত হয়েছে বিজয়ের গানের বিশেষ সংগীতানুষ্ঠান বিজয় নিশান উড়ছে ঐ মাহবুবা ফেরদৌসের প্রযোজনায় অনুষ্ঠানে সংগীত পরিবেশন করেছেন মার্লিন, রাশেদ, অপু, সাব্বির, রন্টি দাশ, লুইপা, প্রিয়াংকা, সুস্মিতা, নন্দিতা ও বাঁধন মার্লিন গান গেয়েছেন জন্ম আমার ধন্য হলো মাগো, সাব্বির গেয়েছেন যে মাটির বুকে ঘুমিয়ে আছে, রাশেদ গেয়েছেন মাগো ভাবনা কেন ও রন্টি গেয়েছেন ও মাঝি নাও ছাইড়া দে মাঝি পাল উড়াইয়া দে অনুষ্ঠানে উপস্থিত ছিলেন সংগীত পরিচালক সুজেয় শ্যাম\n",
      " \n",
      "--- Summary ---\n",
      "একুশে পদকপ্রাপ্ত বরেণ্য নজরুল সংগীতশিল্পী ও স্বাধীনতা সংগ্রামের কণ্ঠযোদ্ধা শাহীন সামাদের উপস্থাপনায় আসছে বিজয় দিবস উপলক্ষে বাংলাদেশ টেলিভিশনে প্রচারের জন্য নির্মিত হয়েছে বিজয়ের গানের বিশেষ সংগীতানুষ্ঠান বিজয় নিশান উড়ছে ঐ মাহবুবা ফেরদৌসের প্রযোজনায় অনুষ্ঠানে সংগীত পরিবেশন করেছেন মার্লিন, রাশেদ, অপু,\n"
     ]
    }
   ],
   "source": [
    "# check\n",
    "i = 10\n",
    "print(\"--- Full text ---\")\n",
    "print(dtf[\"text\"][i])\n",
    "print(\" \")\n",
    "print(\"--- Summary ---\")\n",
    "print(dtf[\"y\"][i])"
   ]
  },
  {
   "cell_type": "code",
   "execution_count": 7,
   "id": "de3a5f81",
   "metadata": {},
   "outputs": [
    {
     "name": "stderr",
     "output_type": "stream",
     "text": [
      "[nltk_data] Downloading package stopwords to\n",
      "[nltk_data]     C:\\Users\\taskin.khaleque\\AppData\\Roaming\\nltk_data...\n",
      "[nltk_data]   Package stopwords is already up-to-date!\n",
      "[nltk_data] Downloading package punkt to\n",
      "[nltk_data]     C:\\Users\\taskin.khaleque\\AppData\\Roaming\\nltk_data...\n",
      "[nltk_data]   Package punkt is already up-to-date!\n"
     ]
    },
    {
     "data": {
      "text/plain": [
       "True"
      ]
     },
     "execution_count": 7,
     "metadata": {},
     "output_type": "execute_result"
    }
   ],
   "source": [
    "import nltk\n",
    "nltk.download('stopwords')\n",
    "nltk.download('punkt')"
   ]
  },
  {
   "cell_type": "code",
   "execution_count": 8,
   "id": "00208af2",
   "metadata": {},
   "outputs": [
    {
     "name": "stderr",
     "output_type": "stream",
     "text": [
      "[nltk_data] Downloading package indian to\n",
      "[nltk_data]     C:\\Users\\taskin.khaleque\\AppData\\Roaming\\nltk_data...\n",
      "[nltk_data]   Package indian is already up-to-date!\n"
     ]
    },
    {
     "data": {
      "text/plain": [
       "True"
      ]
     },
     "execution_count": 8,
     "metadata": {},
     "output_type": "execute_result"
    }
   ],
   "source": [
    "#Text Analysis\n",
    "#Text cleaning\n",
    "#Word frequency\n",
    "#Length analysis\n",
    "# Download Indian corpus\n",
    "nltk.download('indian')"
   ]
  },
  {
   "cell_type": "code",
   "execution_count": 9,
   "id": "1f5dd03b",
   "metadata": {},
   "outputs": [],
   "source": [
    "from nltk.corpus import stopwords\n",
    "from nltk.corpus import indian"
   ]
  },
  {
   "cell_type": "code",
   "execution_count": 10,
   "id": "0a4747f6",
   "metadata": {},
   "outputs": [
    {
     "name": "stdout",
     "output_type": "stream",
     "text": [
      "bangla.pos ['মহিষের', 'সন্তান', ':', 'তোড়া', 'উপজাতি', '৷', 'বাসস্থান-ঘরগৃহস্থালি', 'তোড়া', 'ভাষায়', 'গ্রামকেও', 'বলে', '`', 'মোদ', \"'\", '৷', 'মোদের', 'আয়তন', 'খুব', 'বড়ো', 'নয়', '৷', 'প্রতি', 'মোদে', 'আছে', 'কিছু', 'কুঁড়েঘর', ',', 'সাধারণ', 'মহিষশালা', '৷']\n",
      "hindi.pos ['पूर्ण', 'प्रतिबंध', 'हटाओ', ':', 'इराक', 'संयुक्त', 'राष्ट्र', '।', 'इराक', 'के', 'विदेश', 'मंत्री', 'ने', 'अमरीका', 'के', 'उस', 'प्रस्ताव', 'का', 'मजाक', 'उड़ाया', 'है', ',', 'जिसमें', 'अमरीका', 'ने', 'संयुक्त', 'राष्ट्र', 'के', 'प्रतिबंधों', 'को']\n",
      "marathi.pos [\"''\", 'सनातनवाद्यांनी', 'व', 'प्रतिगाम्यांनी', 'समाज', 'रसातळाला', 'नेला', 'असताना', 'या', 'अंधारात', 'बाळशास्त्री', 'जांभेकर', 'यांनी', \"'दर्पण'च्या\", 'माध्यमातून', 'पहिली', 'ज्ञानज्योत', 'तेववली', ',', \"''\", 'असे', 'प्रतिपादन', 'नटसम्राट', 'प्रभाकर', 'पणशीकर', 'यांनी', 'केले', '.', 'दर्पणकार', 'बाळशास्त्री']\n",
      "telugu.pos ['4', '.', 'ఆడిట్', 'నిర్వహణ', 'ఆడిటర్', 'ఒక', 'కొత్త', 'ఆడిట్', 'చేపట్టే', 'ముందు', 'సక్రమ', 'పద్ధతి', 'లో', 'కార్య', 'ప్రణాళికను', 'రూపొందించాలి', '.', 'దాని', 'కనుగుణంగా', 'వ్యవహరించాలి', '.', 'పత్రసహిత', 'సాక్ష్యాధారాల', 'తో', ',', 'వ్యవహారాల', 'ను', 'తనిఖీ', 'చేయాలి', '.']\n"
     ]
    }
   ],
   "source": [
    "# Show words from each text\n",
    "for text in indian.fileids():\n",
    "    print(text, indian.words(text)[:30])"
   ]
  },
  {
   "cell_type": "code",
   "execution_count": 11,
   "id": "75c707e8",
   "metadata": {},
   "outputs": [],
   "source": [
    "def bn_clean_text(text, remove_stopwords = True):\n",
    "    '''Remove unwanted characters, stopwords, and format the text to create fewer nulls word embeddings'''\n",
    "    text = str(text)\n",
    "    # Replace contractions with their longer forms \n",
    "    # if True:\n",
    "    #     text = text.split()\n",
    "    #     new_text = []\n",
    "    #     for word in text:\n",
    "    #         if word in bn_contractions:\n",
    "    #             new_text.append(bn_contractions[word])\n",
    "    #         else:\n",
    "    #             new_text.append(word)\n",
    "    #     text = \" \".join(new_text)\n",
    "    \n",
    "    # Format words and remove unwanted characters\n",
    "    text = re.sub(r'https?:\\/\\/.*[\\r\\n]*', '', text, flags=re.MULTILINE)\n",
    "    text = re.sub(r'\\<a href', ' ', text)\n",
    "    text = re.sub(r'&amp;', '', text) \n",
    "    text = re.sub(r'[_\"\\-;,`%()|+&=*%.,!?:#$@\\[\\]/]', ' ', text)\n",
    "    text = re.sub(r'<br />', ' ', text)\n",
    "    text = text.replace(\"'\",\"\")\n",
    "    \n",
    "    text = re.sub(r'\\'', ' ', text)\n",
    "    text = text.replace('\\'', ' ')\n",
    "    text = text.replace('\\’', ' ')\n",
    "    \n",
    "    # Optionally, remove stop words\n",
    "    if remove_stopwords:\n",
    "        text = text.split()\n",
    "        stops = set(stopwords.words(\"bengali\"))\n",
    "        text = [w for w in text if not w in stops]\n",
    "        text = \" \".join(text)\n",
    "\n",
    "    return text"
   ]
  },
  {
   "cell_type": "code",
   "execution_count": 12,
   "id": "9d89024f",
   "metadata": {},
   "outputs": [],
   "source": [
    "## apply function to both text and summaries\n",
    "dtf[\"text_clean\"] = dtf[\"text\"].apply(lambda x: bn_clean_text(x, remove_stopwords = True))\n",
    "dtf[\"y_clean\"]    = dtf[\"y\"].apply(lambda y: bn_clean_text(y, remove_stopwords = True))\n",
    "##dtf[\"text_clean\"] = dtf[\"text\"].apply(lambda x: text_cleaner(x))\n",
    "##dtf[\"y_clean\"]    = dtf[\"y\"].apply(lambda y: text_cleaner(y))"
   ]
  },
  {
   "cell_type": "code",
   "execution_count": 13,
   "id": "0f70a1c5",
   "metadata": {},
   "outputs": [
    {
     "name": "stdout",
     "output_type": "stream",
     "text": [
      "--- Full text ---\n",
      "একুশে পদকপ্রাপ্ত বরেণ্য নজরুল সংগীতশিল্পী স্বাধীনতা সংগ্রামের কণ্ঠযোদ্ধা শাহীন সামাদের উপস্থাপনায় আসছে বিজয় দিবস উপলক্ষে বাংলাদেশ টেলিভিশনে প্রচারের নির্মিত হয়েছে বিজয়ের গানের সংগীতানুষ্ঠান বিজয় নিশান উড়ছে মাহবুবা ফেরদৌসের প্রযোজনায় অনুষ্ঠানে সংগীত পরিবেশন মার্লিন রাশেদ অপু সাব্বির রন্টি দাশ লুইপা প্রিয়াংকা সুস্মিতা নন্দিতা বাঁধন মার্লিন গান গেয়েছেন জন্ম ধন্য মাগো সাব্বির গেয়েছেন মাটির বুকে ঘুমিয়ে রাশেদ গেয়েছেন মাগো ভাবনা রন্টি গেয়েছেন মাঝি নাও ছাইড়া দে মাঝি পাল উড়াইয়া দে অনুষ্ঠানে উপস্থিত সংগীত পরিচালক সুজেয় শ্যাম\n",
      " \n",
      "--- Summary ---\n",
      "একুশে পদকপ্রাপ্ত বরেণ্য নজরুল সংগীতশিল্পী স্বাধীনতা সংগ্রামের কণ্ঠযোদ্ধা শাহীন সামাদের উপস্থাপনায় আসছে বিজয় দিবস উপলক্ষে বাংলাদেশ টেলিভিশনে প্রচারের নির্মিত হয়েছে বিজয়ের গানের সংগীতানুষ্ঠান বিজয় নিশান উড়ছে মাহবুবা ফেরদৌসের প্রযোজনায় অনুষ্ঠানে সংগীত পরিবেশন মার্লিন রাশেদ অপু\n"
     ]
    }
   ],
   "source": [
    "# check\n",
    "print(\"--- Full text ---\")\n",
    "print(dtf[\"text_clean\"][i])\n",
    "print(\" \")\n",
    "print(\"--- Summary ---\")\n",
    "print(dtf[\"y_clean\"][i])"
   ]
  },
  {
   "cell_type": "code",
   "execution_count": 14,
   "id": "bbe7f27d",
   "metadata": {},
   "outputs": [
    {
     "name": "stderr",
     "output_type": "stream",
     "text": [
      "C:\\ProgramData\\Anaconda3\\lib\\site-packages\\seaborn\\distributions.py:2557: FutureWarning: `distplot` is a deprecated function and will be removed in a future version. Please adapt your code to use either `displot` (a figure-level function with similar flexibility) or `histplot` (an axes-level function for histograms).\n",
      "  warnings.warn(msg, FutureWarning)\n"
     ]
    },
    {
     "data": {
      "text/plain": [
       "<AxesSubplot:xlabel='word_count', ylabel='Density'>"
      ]
     },
     "execution_count": 14,
     "metadata": {},
     "output_type": "execute_result"
    },
    {
     "data": {
      "image/png": "[encoded data removed]",
      "text/plain": [
       "<Figure size 432x288 with 1 Axes>"
      ]
     },
     "metadata": {
      "needs_background": "light"
     },
     "output_type": "display_data"
    }
   ],
   "source": [
    "## count for TEXT\n",
    "dtf['word_count'] = dtf[\"text_clean\"].apply(lambda x: len(nltk.word_tokenize(str(x))) )\n",
    "## plot\n",
    "sns.distplot(dtf[\"word_count\"], hist=True, kde=True, kde_kws={\"shade\":True})"
   ]
  },
  {
   "cell_type": "code",
   "execution_count": 15,
   "id": "25fd8cba",
   "metadata": {},
   "outputs": [
    {
     "name": "stderr",
     "output_type": "stream",
     "text": [
      "C:\\ProgramData\\Anaconda3\\lib\\site-packages\\seaborn\\distributions.py:2557: FutureWarning: `distplot` is a deprecated function and will be removed in a future version. Please adapt your code to use either `displot` (a figure-level function with similar flexibility) or `histplot` (an axes-level function for histograms).\n",
      "  warnings.warn(msg, FutureWarning)\n"
     ]
    },
    {
     "data": {
      "text/plain": [
       "<AxesSubplot:xlabel='word_count_y', ylabel='Density'>"
      ]
     },
     "execution_count": 15,
     "metadata": {},
     "output_type": "execute_result"
    },
    {
     "data": {
      "image/png": "[encoded data removed]",
      "text/plain": [
       "<Figure size 432x288 with 1 Axes>"
      ]
     },
     "metadata": {
      "needs_background": "light"
     },
     "output_type": "display_data"
    }
   ],
   "source": [
    "## count for SUMMARY\n",
    "dtf['word_count_y'] = dtf[\"y_clean\"].apply(lambda x: len(nltk.word_tokenize(str(x))) )\n",
    "## plot\n",
    "sns.distplot(dtf[\"word_count_y\"], hist=True, kde=True, kde_kws={\"shade\":True})"
   ]
  },
  {
   "cell_type": "code",
   "execution_count": 16,
   "id": "feaadf55",
   "metadata": {},
   "outputs": [],
   "source": [
    "X_len = 300\n",
    "y_len = 35\n",
    "#dtf_freq"
   ]
  },
  {
   "cell_type": "code",
   "execution_count": 17,
   "id": "4c043b79",
   "metadata": {},
   "outputs": [],
   "source": [
    " def word_freq(corpus, ngrams=[1,2,3], top=10, figsize=(10,7)):\n",
    "    lst_tokens = nltk.tokenize.word_tokenize(corpus.str.cat(sep=\" \"))\n",
    "    ngrams = [ngrams] if type(ngrams) is int else ngrams\n",
    "    print(ngrams)\n",
    "    \n",
    "    ## calculate\n",
    "    dtf_freq = pd.DataFrame()\n",
    "    for n in ngrams:\n",
    "        dic_words_freq = nltk.FreqDist(nltk.ngrams(lst_tokens, n))\n",
    "        dtf_n = pd.DataFrame(dic_words_freq.most_common(), columns=[\"word\",\"freq\"])\n",
    "        dtf_n[\"ngrams\"] = n\n",
    "        dtf_freq = dtf_freq.append(dtf_n)\n",
    "    dtf_freq[\"word\"] = dtf_freq[\"word\"].apply(lambda x: \" \".join(string for string in x) )\n",
    "    dtf_freq = dtf_freq.sort_values([\"ngrams\",\"freq\"], ascending=[True,False])\n",
    "    \n",
    "    print(dtf_freq.head(top))\n",
    "    ## plot\n",
    "    ##fig, ax = plt.subplots(figsize=figsize)\n",
    "    ##sns.barplot(x=\"freq\", y=\"word\", hue=\"ngrams\", dodge=False, ax=ax,\n",
    "    ##            data=dtf_freq.groupby('ngrams')[\"ngrams\",\"freq\",\"word\"].head(top))\n",
    "    ##ax.set(xlabel=None, ylabel=None, title=\"Most frequent words\")\n",
    "    ##ax.grid(axis=\"x\")\n",
    "    ##plt.show()\n",
    "    return "
   ]
  },
  {
   "cell_type": "code",
   "execution_count": 18,
   "id": "c798585e",
   "metadata": {
    "scrolled": true
   },
   "outputs": [
    {
     "name": "stdout",
     "output_type": "stream",
     "text": [
      "[1]\n",
      "      word    freq  ngrams\n",
      "0    হয়েছে  105346       1\n",
      "1       এক   63892       1\n",
      "2    গতকাল   60700       1\n",
      "3      হয়ে   47913       1\n",
      "4      সময়   44299       1\n",
      "..     ...     ...     ...\n",
      "95       ৩   12298       1\n",
      "96     নাম   12222       1\n",
      "97  চৌধুরী   12086       1\n",
      "98     দেয়   12085       1\n",
      "99  উদ্ধার   12082       1\n",
      "\n",
      "[100 rows x 3 columns]\n"
     ]
    }
   ],
   "source": [
    "# Find most common words in text\n",
    "dtf_freq = word_freq(corpus=dtf[\"text_clean\"], ngrams=[1], top=100, figsize=(10,7))\n"
   ]
  },
  {
   "cell_type": "code",
   "execution_count": 19,
   "id": "24da4b98",
   "metadata": {},
   "outputs": [
    {
     "name": "stderr",
     "output_type": "stream",
     "text": [
      "<ipython-input-19-296d2565d401>:18: FutureWarning: Indexing with multiple keys (implicitly converted to a tuple of keys) will be deprecated, use a list instead.\n",
      "  data=dtf_freq.groupby('ngrams')[\"ngrams\",\"freq\",\"word\"].head(30))\n",
      "C:\\ProgramData\\Anaconda3\\lib\\site-packages\\matplotlib\\backends\\backend_agg.py:238: RuntimeWarning: Glyph 2489 missing from current font.\n",
      "  font.set_text(s, 0.0, flags=flags)\n",
      "C:\\ProgramData\\Anaconda3\\lib\\site-packages\\matplotlib\\backends\\backend_agg.py:238: RuntimeWarning: Glyph 2527 missing from current font.\n",
      "  font.set_text(s, 0.0, flags=flags)\n",
      "C:\\ProgramData\\Anaconda3\\lib\\site-packages\\matplotlib\\backends\\backend_agg.py:238: RuntimeWarning: Glyph 2503 missing from current font.\n",
      "  font.set_text(s, 0.0, flags=flags)\n",
      "C:\\ProgramData\\Anaconda3\\lib\\site-packages\\matplotlib\\backends\\backend_agg.py:238: RuntimeWarning: Glyph 2459 missing from current font.\n",
      "  font.set_text(s, 0.0, flags=flags)\n",
      "C:\\ProgramData\\Anaconda3\\lib\\site-packages\\matplotlib\\backends\\backend_agg.py:238: RuntimeWarning: Glyph 2447 missing from current font.\n",
      "  font.set_text(s, 0.0, flags=flags)\n",
      "C:\\ProgramData\\Anaconda3\\lib\\site-packages\\matplotlib\\backends\\backend_agg.py:238: RuntimeWarning: Glyph 2453 missing from current font.\n",
      "  font.set_text(s, 0.0, flags=flags)\n",
      "C:\\ProgramData\\Anaconda3\\lib\\site-packages\\matplotlib\\backends\\backend_agg.py:238: RuntimeWarning: Glyph 2455 missing from current font.\n",
      "  font.set_text(s, 0.0, flags=flags)\n",
      "C:\\ProgramData\\Anaconda3\\lib\\site-packages\\matplotlib\\backends\\backend_agg.py:238: RuntimeWarning: Glyph 2468 missing from current font.\n",
      "  font.set_text(s, 0.0, flags=flags)\n",
      "C:\\ProgramData\\Anaconda3\\lib\\site-packages\\matplotlib\\backends\\backend_agg.py:238: RuntimeWarning: Glyph 2494 missing from current font.\n",
      "  font.set_text(s, 0.0, flags=flags)\n",
      "C:\\ProgramData\\Anaconda3\\lib\\site-packages\\matplotlib\\backends\\backend_agg.py:238: RuntimeWarning: Glyph 2482 missing from current font.\n",
      "  font.set_text(s, 0.0, flags=flags)\n",
      "C:\\ProgramData\\Anaconda3\\lib\\site-packages\\matplotlib\\backends\\backend_agg.py:238: RuntimeWarning: Glyph 2488 missing from current font.\n",
      "  font.set_text(s, 0.0, flags=flags)\n",
      "C:\\ProgramData\\Anaconda3\\lib\\site-packages\\matplotlib\\backends\\backend_agg.py:238: RuntimeWarning: Glyph 2478 missing from current font.\n",
      "  font.set_text(s, 0.0, flags=flags)\n",
      "C:\\ProgramData\\Anaconda3\\lib\\site-packages\\matplotlib\\backends\\backend_agg.py:238: RuntimeWarning: Glyph 2476 missing from current font.\n",
      "  font.set_text(s, 0.0, flags=flags)\n",
      "C:\\ProgramData\\Anaconda3\\lib\\site-packages\\matplotlib\\backends\\backend_agg.py:238: RuntimeWarning: Glyph 2434 missing from current font.\n",
      "  font.set_text(s, 0.0, flags=flags)\n",
      "C:\\ProgramData\\Anaconda3\\lib\\site-packages\\matplotlib\\backends\\backend_agg.py:238: RuntimeWarning: Glyph 2470 missing from current font.\n",
      "  font.set_text(s, 0.0, flags=flags)\n",
      "C:\\ProgramData\\Anaconda3\\lib\\site-packages\\matplotlib\\backends\\backend_agg.py:238: RuntimeWarning: Glyph 2486 missing from current font.\n",
      "  font.set_text(s, 0.0, flags=flags)\n",
      "C:\\ProgramData\\Anaconda3\\lib\\site-packages\\matplotlib\\backends\\backend_agg.py:238: RuntimeWarning: Glyph 2479 missing from current font.\n",
      "  font.set_text(s, 0.0, flags=flags)\n",
      "C:\\ProgramData\\Anaconda3\\lib\\site-packages\\matplotlib\\backends\\backend_agg.py:238: RuntimeWarning: Glyph 2469 missing from current font.\n",
      "  font.set_text(s, 0.0, flags=flags)\n",
      "C:\\ProgramData\\Anaconda3\\lib\\site-packages\\matplotlib\\backends\\backend_agg.py:238: RuntimeWarning: Glyph 2460 missing from current font.\n",
      "  font.set_text(s, 0.0, flags=flags)\n",
      "C:\\ProgramData\\Anaconda3\\lib\\site-packages\\matplotlib\\backends\\backend_agg.py:238: RuntimeWarning: Glyph 2472 missing from current font.\n",
      "  font.set_text(s, 0.0, flags=flags)\n",
      "C:\\ProgramData\\Anaconda3\\lib\\site-packages\\matplotlib\\backends\\backend_agg.py:238: RuntimeWarning: Glyph 2495 missing from current font.\n",
      "  font.set_text(s, 0.0, flags=flags)\n",
      "C:\\ProgramData\\Anaconda3\\lib\\site-packages\\matplotlib\\backends\\backend_agg.py:238: RuntimeWarning: Glyph 2474 missing from current font.\n",
      "  font.set_text(s, 0.0, flags=flags)\n",
      "C:\\ProgramData\\Anaconda3\\lib\\site-packages\\matplotlib\\backends\\backend_agg.py:238: RuntimeWarning: Glyph 2497 missing from current font.\n",
      "  font.set_text(s, 0.0, flags=flags)\n",
      "C:\\ProgramData\\Anaconda3\\lib\\site-packages\\matplotlib\\backends\\backend_agg.py:238: RuntimeWarning: Glyph 2463 missing from current font.\n",
      "  font.set_text(s, 0.0, flags=flags)\n",
      "C:\\ProgramData\\Anaconda3\\lib\\site-packages\\matplotlib\\backends\\backend_agg.py:238: RuntimeWarning: Glyph 2438 missing from current font.\n",
      "  font.set_text(s, 0.0, flags=flags)\n",
      "C:\\ProgramData\\Anaconda3\\lib\\site-packages\\matplotlib\\backends\\backend_agg.py:238: RuntimeWarning: Glyph 2451 missing from current font.\n",
      "  font.set_text(s, 0.0, flags=flags)\n",
      "C:\\ProgramData\\Anaconda3\\lib\\site-packages\\matplotlib\\backends\\backend_agg.py:238: RuntimeWarning: Glyph 2496 missing from current font.\n",
      "  font.set_text(s, 0.0, flags=flags)\n",
      "C:\\ProgramData\\Anaconda3\\lib\\site-packages\\matplotlib\\backends\\backend_agg.py:238: RuntimeWarning: Glyph 2480 missing from current font.\n",
      "  font.set_text(s, 0.0, flags=flags)\n",
      "C:\\ProgramData\\Anaconda3\\lib\\site-packages\\matplotlib\\backends\\backend_agg.py:238: RuntimeWarning: Glyph 2466 missing from current font.\n",
      "  font.set_text(s, 0.0, flags=flags)\n",
      "C:\\ProgramData\\Anaconda3\\lib\\site-packages\\matplotlib\\backends\\backend_agg.py:238: RuntimeWarning: Glyph 2439 missing from current font.\n",
      "  font.set_text(s, 0.0, flags=flags)\n",
      "C:\\ProgramData\\Anaconda3\\lib\\site-packages\\matplotlib\\backends\\backend_agg.py:238: RuntimeWarning: Glyph 2507 missing from current font.\n",
      "  font.set_text(s, 0.0, flags=flags)\n",
      "C:\\ProgramData\\Anaconda3\\lib\\site-packages\\matplotlib\\backends\\backend_agg.py:238: RuntimeWarning: Glyph 2454 missing from current font.\n",
      "  font.set_text(s, 0.0, flags=flags)\n",
      "C:\\ProgramData\\Anaconda3\\lib\\site-packages\\matplotlib\\backends\\backend_agg.py:238: RuntimeWarning: Glyph 2509 missing from current font.\n",
      "  font.set_text(s, 0.0, flags=flags)\n",
      "C:\\ProgramData\\Anaconda3\\lib\\site-packages\\matplotlib\\backends\\backend_agg.py:238: RuntimeWarning: Glyph 2441 missing from current font.\n",
      "  font.set_text(s, 0.0, flags=flags)\n",
      "C:\\ProgramData\\Anaconda3\\lib\\site-packages\\matplotlib\\backends\\backend_agg.py:201: RuntimeWarning: Glyph 2489 missing from current font.\n",
      "  font.set_text(s, 0, flags=flags)\n",
      "C:\\ProgramData\\Anaconda3\\lib\\site-packages\\matplotlib\\backends\\backend_agg.py:201: RuntimeWarning: Glyph 2527 missing from current font.\n",
      "  font.set_text(s, 0, flags=flags)\n",
      "C:\\ProgramData\\Anaconda3\\lib\\site-packages\\matplotlib\\backends\\backend_agg.py:201: RuntimeWarning: Glyph 2503 missing from current font.\n",
      "  font.set_text(s, 0, flags=flags)\n",
      "C:\\ProgramData\\Anaconda3\\lib\\site-packages\\matplotlib\\backends\\backend_agg.py:201: RuntimeWarning: Glyph 2459 missing from current font.\n",
      "  font.set_text(s, 0, flags=flags)\n",
      "C:\\ProgramData\\Anaconda3\\lib\\site-packages\\matplotlib\\backends\\backend_agg.py:201: RuntimeWarning: Glyph 2447 missing from current font.\n",
      "  font.set_text(s, 0, flags=flags)\n",
      "C:\\ProgramData\\Anaconda3\\lib\\site-packages\\matplotlib\\backends\\backend_agg.py:201: RuntimeWarning: Glyph 2453 missing from current font.\n",
      "  font.set_text(s, 0, flags=flags)\n",
      "C:\\ProgramData\\Anaconda3\\lib\\site-packages\\matplotlib\\backends\\backend_agg.py:201: RuntimeWarning: Glyph 2455 missing from current font.\n",
      "  font.set_text(s, 0, flags=flags)\n",
      "C:\\ProgramData\\Anaconda3\\lib\\site-packages\\matplotlib\\backends\\backend_agg.py:201: RuntimeWarning: Glyph 2468 missing from current font.\n",
      "  font.set_text(s, 0, flags=flags)\n",
      "C:\\ProgramData\\Anaconda3\\lib\\site-packages\\matplotlib\\backends\\backend_agg.py:201: RuntimeWarning: Glyph 2494 missing from current font.\n",
      "  font.set_text(s, 0, flags=flags)\n",
      "C:\\ProgramData\\Anaconda3\\lib\\site-packages\\matplotlib\\backends\\backend_agg.py:201: RuntimeWarning: Glyph 2482 missing from current font.\n",
      "  font.set_text(s, 0, flags=flags)\n",
      "C:\\ProgramData\\Anaconda3\\lib\\site-packages\\matplotlib\\backends\\backend_agg.py:201: RuntimeWarning: Glyph 2488 missing from current font.\n",
      "  font.set_text(s, 0, flags=flags)\n",
      "C:\\ProgramData\\Anaconda3\\lib\\site-packages\\matplotlib\\backends\\backend_agg.py:201: RuntimeWarning: Glyph 2478 missing from current font.\n",
      "  font.set_text(s, 0, flags=flags)\n",
      "C:\\ProgramData\\Anaconda3\\lib\\site-packages\\matplotlib\\backends\\backend_agg.py:201: RuntimeWarning: Glyph 2476 missing from current font.\n",
      "  font.set_text(s, 0, flags=flags)\n",
      "C:\\ProgramData\\Anaconda3\\lib\\site-packages\\matplotlib\\backends\\backend_agg.py:201: RuntimeWarning: Glyph 2434 missing from current font.\n",
      "  font.set_text(s, 0, flags=flags)\n",
      "C:\\ProgramData\\Anaconda3\\lib\\site-packages\\matplotlib\\backends\\backend_agg.py:201: RuntimeWarning: Glyph 2470 missing from current font.\n",
      "  font.set_text(s, 0, flags=flags)\n",
      "C:\\ProgramData\\Anaconda3\\lib\\site-packages\\matplotlib\\backends\\backend_agg.py:201: RuntimeWarning: Glyph 2486 missing from current font.\n",
      "  font.set_text(s, 0, flags=flags)\n",
      "C:\\ProgramData\\Anaconda3\\lib\\site-packages\\matplotlib\\backends\\backend_agg.py:201: RuntimeWarning: Glyph 2479 missing from current font.\n",
      "  font.set_text(s, 0, flags=flags)\n",
      "C:\\ProgramData\\Anaconda3\\lib\\site-packages\\matplotlib\\backends\\backend_agg.py:201: RuntimeWarning: Glyph 2469 missing from current font.\n",
      "  font.set_text(s, 0, flags=flags)\n",
      "C:\\ProgramData\\Anaconda3\\lib\\site-packages\\matplotlib\\backends\\backend_agg.py:201: RuntimeWarning: Glyph 2460 missing from current font.\n",
      "  font.set_text(s, 0, flags=flags)\n",
      "C:\\ProgramData\\Anaconda3\\lib\\site-packages\\matplotlib\\backends\\backend_agg.py:201: RuntimeWarning: Glyph 2472 missing from current font.\n",
      "  font.set_text(s, 0, flags=flags)\n",
      "C:\\ProgramData\\Anaconda3\\lib\\site-packages\\matplotlib\\backends\\backend_agg.py:201: RuntimeWarning: Glyph 2495 missing from current font.\n",
      "  font.set_text(s, 0, flags=flags)\n",
      "C:\\ProgramData\\Anaconda3\\lib\\site-packages\\matplotlib\\backends\\backend_agg.py:201: RuntimeWarning: Glyph 2474 missing from current font.\n",
      "  font.set_text(s, 0, flags=flags)\n",
      "C:\\ProgramData\\Anaconda3\\lib\\site-packages\\matplotlib\\backends\\backend_agg.py:201: RuntimeWarning: Glyph 2497 missing from current font.\n",
      "  font.set_text(s, 0, flags=flags)\n",
      "C:\\ProgramData\\Anaconda3\\lib\\site-packages\\matplotlib\\backends\\backend_agg.py:201: RuntimeWarning: Glyph 2463 missing from current font.\n",
      "  font.set_text(s, 0, flags=flags)\n",
      "C:\\ProgramData\\Anaconda3\\lib\\site-packages\\matplotlib\\backends\\backend_agg.py:201: RuntimeWarning: Glyph 2438 missing from current font.\n",
      "  font.set_text(s, 0, flags=flags)\n",
      "C:\\ProgramData\\Anaconda3\\lib\\site-packages\\matplotlib\\backends\\backend_agg.py:201: RuntimeWarning: Glyph 2451 missing from current font.\n",
      "  font.set_text(s, 0, flags=flags)\n",
      "C:\\ProgramData\\Anaconda3\\lib\\site-packages\\matplotlib\\backends\\backend_agg.py:201: RuntimeWarning: Glyph 2496 missing from current font.\n",
      "  font.set_text(s, 0, flags=flags)\n",
      "C:\\ProgramData\\Anaconda3\\lib\\site-packages\\matplotlib\\backends\\backend_agg.py:201: RuntimeWarning: Glyph 2480 missing from current font.\n",
      "  font.set_text(s, 0, flags=flags)\n",
      "C:\\ProgramData\\Anaconda3\\lib\\site-packages\\matplotlib\\backends\\backend_agg.py:201: RuntimeWarning: Glyph 2466 missing from current font.\n",
      "  font.set_text(s, 0, flags=flags)\n",
      "C:\\ProgramData\\Anaconda3\\lib\\site-packages\\matplotlib\\backends\\backend_agg.py:201: RuntimeWarning: Glyph 2439 missing from current font.\n",
      "  font.set_text(s, 0, flags=flags)\n",
      "C:\\ProgramData\\Anaconda3\\lib\\site-packages\\matplotlib\\backends\\backend_agg.py:201: RuntimeWarning: Glyph 2507 missing from current font.\n",
      "  font.set_text(s, 0, flags=flags)\n",
      "C:\\ProgramData\\Anaconda3\\lib\\site-packages\\matplotlib\\backends\\backend_agg.py:201: RuntimeWarning: Glyph 2454 missing from current font.\n",
      "  font.set_text(s, 0, flags=flags)\n",
      "C:\\ProgramData\\Anaconda3\\lib\\site-packages\\matplotlib\\backends\\backend_agg.py:201: RuntimeWarning: Glyph 2509 missing from current font.\n",
      "  font.set_text(s, 0, flags=flags)\n",
      "C:\\ProgramData\\Anaconda3\\lib\\site-packages\\matplotlib\\backends\\backend_agg.py:201: RuntimeWarning: Glyph 2441 missing from current font.\n",
      "  font.set_text(s, 0, flags=flags)\n"
     ]
    },
    {
     "data": {
      "image/png": "[encoded data removed]",
      "text/plain": [
       "<Figure size 432x288 with 1 Axes>"
      ]
     },
     "metadata": {
      "needs_background": "light"
     },
     "output_type": "display_data"
    }
   ],
   "source": [
    "lst_tokens = nltk.tokenize.word_tokenize(dtf[\"text_clean\"].str.cat(sep=\" \"))\n",
    "ngrams = [1]\n",
    "    \n",
    "## calculate\n",
    "dtf_freq = pd.DataFrame()\n",
    "for n in ngrams:\n",
    "   dic_words_freq = nltk.FreqDist(nltk.ngrams(lst_tokens, n))\n",
    "   dtf_n = pd.DataFrame(dic_words_freq.most_common(), columns=\n",
    "                        [\"word\",\"freq\"])\n",
    "   dtf_n[\"ngrams\"] = n\n",
    "   dtf_freq = dtf_freq.append(dtf_n)\n",
    "   dtf_freq[\"word\"] = dtf_freq[\"word\"].apply(lambda x: \"\".join(string for string in x) )\n",
    "   dtf_freq_X= dtf_freq.sort_values([\"ngrams\",\"freq\"], ascending=\n",
    "                         [True,False])\n",
    "    \n",
    "## plot\n",
    "sns.barplot(x=\"freq\", y=\"word\", hue=\"ngrams\", dodge=False,\n",
    " data=dtf_freq.groupby('ngrams')[\"ngrams\",\"freq\",\"word\"].head(30))\n",
    "plt.show()\n"
   ]
  },
  {
   "cell_type": "code",
   "execution_count": 20,
   "id": "ffdabaf4",
   "metadata": {},
   "outputs": [
    {
     "name": "stderr",
     "output_type": "stream",
     "text": [
      "<ipython-input-20-df99c004c510>:18: FutureWarning: Indexing with multiple keys (implicitly converted to a tuple of keys) will be deprecated, use a list instead.\n",
      "  data=dtf_freq_s.groupby('ngrams')[\"ngrams\",\"freq\",\"word\"].head(30))\n",
      "C:\\ProgramData\\Anaconda3\\lib\\site-packages\\matplotlib\\backends\\backend_agg.py:238: RuntimeWarning: Glyph 2455 missing from current font.\n",
      "  font.set_text(s, 0.0, flags=flags)\n",
      "C:\\ProgramData\\Anaconda3\\lib\\site-packages\\matplotlib\\backends\\backend_agg.py:238: RuntimeWarning: Glyph 2468 missing from current font.\n",
      "  font.set_text(s, 0.0, flags=flags)\n",
      "C:\\ProgramData\\Anaconda3\\lib\\site-packages\\matplotlib\\backends\\backend_agg.py:238: RuntimeWarning: Glyph 2453 missing from current font.\n",
      "  font.set_text(s, 0.0, flags=flags)\n",
      "C:\\ProgramData\\Anaconda3\\lib\\site-packages\\matplotlib\\backends\\backend_agg.py:238: RuntimeWarning: Glyph 2494 missing from current font.\n",
      "  font.set_text(s, 0.0, flags=flags)\n",
      "C:\\ProgramData\\Anaconda3\\lib\\site-packages\\matplotlib\\backends\\backend_agg.py:238: RuntimeWarning: Glyph 2482 missing from current font.\n",
      "  font.set_text(s, 0.0, flags=flags)\n",
      "C:\\ProgramData\\Anaconda3\\lib\\site-packages\\matplotlib\\backends\\backend_agg.py:238: RuntimeWarning: Glyph 2489 missing from current font.\n",
      "  font.set_text(s, 0.0, flags=flags)\n",
      "C:\\ProgramData\\Anaconda3\\lib\\site-packages\\matplotlib\\backends\\backend_agg.py:238: RuntimeWarning: Glyph 2527 missing from current font.\n",
      "  font.set_text(s, 0.0, flags=flags)\n",
      "C:\\ProgramData\\Anaconda3\\lib\\site-packages\\matplotlib\\backends\\backend_agg.py:238: RuntimeWarning: Glyph 2503 missing from current font.\n",
      "  font.set_text(s, 0.0, flags=flags)\n",
      "C:\\ProgramData\\Anaconda3\\lib\\site-packages\\matplotlib\\backends\\backend_agg.py:238: RuntimeWarning: Glyph 2459 missing from current font.\n",
      "  font.set_text(s, 0.0, flags=flags)\n",
      "C:\\ProgramData\\Anaconda3\\lib\\site-packages\\matplotlib\\backends\\backend_agg.py:238: RuntimeWarning: Glyph 2447 missing from current font.\n",
      "  font.set_text(s, 0.0, flags=flags)\n",
      "C:\\ProgramData\\Anaconda3\\lib\\site-packages\\matplotlib\\backends\\backend_agg.py:238: RuntimeWarning: Glyph 2476 missing from current font.\n",
      "  font.set_text(s, 0.0, flags=flags)\n",
      "C:\\ProgramData\\Anaconda3\\lib\\site-packages\\matplotlib\\backends\\backend_agg.py:238: RuntimeWarning: Glyph 2434 missing from current font.\n",
      "  font.set_text(s, 0.0, flags=flags)\n",
      "C:\\ProgramData\\Anaconda3\\lib\\site-packages\\matplotlib\\backends\\backend_agg.py:238: RuntimeWarning: Glyph 2470 missing from current font.\n",
      "  font.set_text(s, 0.0, flags=flags)\n",
      "C:\\ProgramData\\Anaconda3\\lib\\site-packages\\matplotlib\\backends\\backend_agg.py:238: RuntimeWarning: Glyph 2486 missing from current font.\n",
      "  font.set_text(s, 0.0, flags=flags)\n",
      "C:\\ProgramData\\Anaconda3\\lib\\site-packages\\matplotlib\\backends\\backend_agg.py:238: RuntimeWarning: Glyph 2460 missing from current font.\n",
      "  font.set_text(s, 0.0, flags=flags)\n",
      "C:\\ProgramData\\Anaconda3\\lib\\site-packages\\matplotlib\\backends\\backend_agg.py:238: RuntimeWarning: Glyph 2496 missing from current font.\n",
      "  font.set_text(s, 0.0, flags=flags)\n",
      "C:\\ProgramData\\Anaconda3\\lib\\site-packages\\matplotlib\\backends\\backend_agg.py:238: RuntimeWarning: Glyph 2438 missing from current font.\n",
      "  font.set_text(s, 0.0, flags=flags)\n",
      "C:\\ProgramData\\Anaconda3\\lib\\site-packages\\matplotlib\\backends\\backend_agg.py:238: RuntimeWarning: Glyph 2451 missing from current font.\n",
      "  font.set_text(s, 0.0, flags=flags)\n",
      "C:\\ProgramData\\Anaconda3\\lib\\site-packages\\matplotlib\\backends\\backend_agg.py:238: RuntimeWarning: Glyph 2478 missing from current font.\n",
      "  font.set_text(s, 0.0, flags=flags)\n",
      "C:\\ProgramData\\Anaconda3\\lib\\site-packages\\matplotlib\\backends\\backend_agg.py:238: RuntimeWarning: Glyph 2441 missing from current font.\n",
      "  font.set_text(s, 0.0, flags=flags)\n",
      "C:\\ProgramData\\Anaconda3\\lib\\site-packages\\matplotlib\\backends\\backend_agg.py:238: RuntimeWarning: Glyph 2474 missing from current font.\n",
      "  font.set_text(s, 0.0, flags=flags)\n",
      "C:\\ProgramData\\Anaconda3\\lib\\site-packages\\matplotlib\\backends\\backend_agg.py:238: RuntimeWarning: Glyph 2480 missing from current font.\n",
      "  font.set_text(s, 0.0, flags=flags)\n",
      "C:\\ProgramData\\Anaconda3\\lib\\site-packages\\matplotlib\\backends\\backend_agg.py:238: RuntimeWarning: Glyph 2466 missing from current font.\n",
      "  font.set_text(s, 0.0, flags=flags)\n",
      "C:\\ProgramData\\Anaconda3\\lib\\site-packages\\matplotlib\\backends\\backend_agg.py:238: RuntimeWarning: Glyph 2497 missing from current font.\n",
      "  font.set_text(s, 0.0, flags=flags)\n",
      "C:\\ProgramData\\Anaconda3\\lib\\site-packages\\matplotlib\\backends\\backend_agg.py:238: RuntimeWarning: Glyph 2495 missing from current font.\n",
      "  font.set_text(s, 0.0, flags=flags)\n",
      "C:\\ProgramData\\Anaconda3\\lib\\site-packages\\matplotlib\\backends\\backend_agg.py:238: RuntimeWarning: Glyph 2488 missing from current font.\n",
      "  font.set_text(s, 0.0, flags=flags)\n",
      "C:\\ProgramData\\Anaconda3\\lib\\site-packages\\matplotlib\\backends\\backend_agg.py:238: RuntimeWarning: Glyph 2472 missing from current font.\n",
      "  font.set_text(s, 0.0, flags=flags)\n",
      "C:\\ProgramData\\Anaconda3\\lib\\site-packages\\matplotlib\\backends\\backend_agg.py:238: RuntimeWarning: Glyph 2454 missing from current font.\n",
      "  font.set_text(s, 0.0, flags=flags)\n",
      "C:\\ProgramData\\Anaconda3\\lib\\site-packages\\matplotlib\\backends\\backend_agg.py:238: RuntimeWarning: Glyph 2535 missing from current font.\n",
      "  font.set_text(s, 0.0, flags=flags)\n",
      "C:\\ProgramData\\Anaconda3\\lib\\site-packages\\matplotlib\\backends\\backend_agg.py:238: RuntimeWarning: Glyph 2471 missing from current font.\n",
      "  font.set_text(s, 0.0, flags=flags)\n",
      "C:\\ProgramData\\Anaconda3\\lib\\site-packages\\matplotlib\\backends\\backend_agg.py:238: RuntimeWarning: Glyph 2469 missing from current font.\n",
      "  font.set_text(s, 0.0, flags=flags)\n",
      "C:\\ProgramData\\Anaconda3\\lib\\site-packages\\matplotlib\\backends\\backend_agg.py:238: RuntimeWarning: Glyph 2437 missing from current font.\n",
      "  font.set_text(s, 0.0, flags=flags)\n",
      "C:\\ProgramData\\Anaconda3\\lib\\site-packages\\matplotlib\\backends\\backend_agg.py:238: RuntimeWarning: Glyph 2477 missing from current font.\n",
      "  font.set_text(s, 0.0, flags=flags)\n",
      "C:\\ProgramData\\Anaconda3\\lib\\site-packages\\matplotlib\\backends\\backend_agg.py:238: RuntimeWarning: Glyph 2479 missing from current font.\n",
      "  font.set_text(s, 0.0, flags=flags)\n",
      "C:\\ProgramData\\Anaconda3\\lib\\site-packages\\matplotlib\\backends\\backend_agg.py:238: RuntimeWarning: Glyph 2507 missing from current font.\n",
      "  font.set_text(s, 0.0, flags=flags)\n",
      "C:\\ProgramData\\Anaconda3\\lib\\site-packages\\matplotlib\\backends\\backend_agg.py:238: RuntimeWarning: Glyph 2509 missing from current font.\n",
      "  font.set_text(s, 0.0, flags=flags)\n",
      "C:\\ProgramData\\Anaconda3\\lib\\site-packages\\matplotlib\\backends\\backend_agg.py:201: RuntimeWarning: Glyph 2455 missing from current font.\n",
      "  font.set_text(s, 0, flags=flags)\n",
      "C:\\ProgramData\\Anaconda3\\lib\\site-packages\\matplotlib\\backends\\backend_agg.py:201: RuntimeWarning: Glyph 2468 missing from current font.\n",
      "  font.set_text(s, 0, flags=flags)\n",
      "C:\\ProgramData\\Anaconda3\\lib\\site-packages\\matplotlib\\backends\\backend_agg.py:201: RuntimeWarning: Glyph 2453 missing from current font.\n",
      "  font.set_text(s, 0, flags=flags)\n",
      "C:\\ProgramData\\Anaconda3\\lib\\site-packages\\matplotlib\\backends\\backend_agg.py:201: RuntimeWarning: Glyph 2494 missing from current font.\n",
      "  font.set_text(s, 0, flags=flags)\n",
      "C:\\ProgramData\\Anaconda3\\lib\\site-packages\\matplotlib\\backends\\backend_agg.py:201: RuntimeWarning: Glyph 2482 missing from current font.\n",
      "  font.set_text(s, 0, flags=flags)\n",
      "C:\\ProgramData\\Anaconda3\\lib\\site-packages\\matplotlib\\backends\\backend_agg.py:201: RuntimeWarning: Glyph 2489 missing from current font.\n",
      "  font.set_text(s, 0, flags=flags)\n",
      "C:\\ProgramData\\Anaconda3\\lib\\site-packages\\matplotlib\\backends\\backend_agg.py:201: RuntimeWarning: Glyph 2527 missing from current font.\n",
      "  font.set_text(s, 0, flags=flags)\n",
      "C:\\ProgramData\\Anaconda3\\lib\\site-packages\\matplotlib\\backends\\backend_agg.py:201: RuntimeWarning: Glyph 2503 missing from current font.\n",
      "  font.set_text(s, 0, flags=flags)\n",
      "C:\\ProgramData\\Anaconda3\\lib\\site-packages\\matplotlib\\backends\\backend_agg.py:201: RuntimeWarning: Glyph 2459 missing from current font.\n",
      "  font.set_text(s, 0, flags=flags)\n",
      "C:\\ProgramData\\Anaconda3\\lib\\site-packages\\matplotlib\\backends\\backend_agg.py:201: RuntimeWarning: Glyph 2447 missing from current font.\n",
      "  font.set_text(s, 0, flags=flags)\n",
      "C:\\ProgramData\\Anaconda3\\lib\\site-packages\\matplotlib\\backends\\backend_agg.py:201: RuntimeWarning: Glyph 2476 missing from current font.\n",
      "  font.set_text(s, 0, flags=flags)\n",
      "C:\\ProgramData\\Anaconda3\\lib\\site-packages\\matplotlib\\backends\\backend_agg.py:201: RuntimeWarning: Glyph 2434 missing from current font.\n",
      "  font.set_text(s, 0, flags=flags)\n",
      "C:\\ProgramData\\Anaconda3\\lib\\site-packages\\matplotlib\\backends\\backend_agg.py:201: RuntimeWarning: Glyph 2470 missing from current font.\n",
      "  font.set_text(s, 0, flags=flags)\n",
      "C:\\ProgramData\\Anaconda3\\lib\\site-packages\\matplotlib\\backends\\backend_agg.py:201: RuntimeWarning: Glyph 2486 missing from current font.\n",
      "  font.set_text(s, 0, flags=flags)\n",
      "C:\\ProgramData\\Anaconda3\\lib\\site-packages\\matplotlib\\backends\\backend_agg.py:201: RuntimeWarning: Glyph 2460 missing from current font.\n",
      "  font.set_text(s, 0, flags=flags)\n",
      "C:\\ProgramData\\Anaconda3\\lib\\site-packages\\matplotlib\\backends\\backend_agg.py:201: RuntimeWarning: Glyph 2496 missing from current font.\n",
      "  font.set_text(s, 0, flags=flags)\n",
      "C:\\ProgramData\\Anaconda3\\lib\\site-packages\\matplotlib\\backends\\backend_agg.py:201: RuntimeWarning: Glyph 2438 missing from current font.\n",
      "  font.set_text(s, 0, flags=flags)\n",
      "C:\\ProgramData\\Anaconda3\\lib\\site-packages\\matplotlib\\backends\\backend_agg.py:201: RuntimeWarning: Glyph 2451 missing from current font.\n",
      "  font.set_text(s, 0, flags=flags)\n",
      "C:\\ProgramData\\Anaconda3\\lib\\site-packages\\matplotlib\\backends\\backend_agg.py:201: RuntimeWarning: Glyph 2478 missing from current font.\n",
      "  font.set_text(s, 0, flags=flags)\n",
      "C:\\ProgramData\\Anaconda3\\lib\\site-packages\\matplotlib\\backends\\backend_agg.py:201: RuntimeWarning: Glyph 2441 missing from current font.\n",
      "  font.set_text(s, 0, flags=flags)\n",
      "C:\\ProgramData\\Anaconda3\\lib\\site-packages\\matplotlib\\backends\\backend_agg.py:201: RuntimeWarning: Glyph 2474 missing from current font.\n",
      "  font.set_text(s, 0, flags=flags)\n",
      "C:\\ProgramData\\Anaconda3\\lib\\site-packages\\matplotlib\\backends\\backend_agg.py:201: RuntimeWarning: Glyph 2480 missing from current font.\n",
      "  font.set_text(s, 0, flags=flags)\n",
      "C:\\ProgramData\\Anaconda3\\lib\\site-packages\\matplotlib\\backends\\backend_agg.py:201: RuntimeWarning: Glyph 2466 missing from current font.\n",
      "  font.set_text(s, 0, flags=flags)\n",
      "C:\\ProgramData\\Anaconda3\\lib\\site-packages\\matplotlib\\backends\\backend_agg.py:201: RuntimeWarning: Glyph 2497 missing from current font.\n",
      "  font.set_text(s, 0, flags=flags)\n",
      "C:\\ProgramData\\Anaconda3\\lib\\site-packages\\matplotlib\\backends\\backend_agg.py:201: RuntimeWarning: Glyph 2495 missing from current font.\n",
      "  font.set_text(s, 0, flags=flags)\n",
      "C:\\ProgramData\\Anaconda3\\lib\\site-packages\\matplotlib\\backends\\backend_agg.py:201: RuntimeWarning: Glyph 2488 missing from current font.\n",
      "  font.set_text(s, 0, flags=flags)\n",
      "C:\\ProgramData\\Anaconda3\\lib\\site-packages\\matplotlib\\backends\\backend_agg.py:201: RuntimeWarning: Glyph 2472 missing from current font.\n",
      "  font.set_text(s, 0, flags=flags)\n",
      "C:\\ProgramData\\Anaconda3\\lib\\site-packages\\matplotlib\\backends\\backend_agg.py:201: RuntimeWarning: Glyph 2454 missing from current font.\n",
      "  font.set_text(s, 0, flags=flags)\n",
      "C:\\ProgramData\\Anaconda3\\lib\\site-packages\\matplotlib\\backends\\backend_agg.py:201: RuntimeWarning: Glyph 2535 missing from current font.\n",
      "  font.set_text(s, 0, flags=flags)\n",
      "C:\\ProgramData\\Anaconda3\\lib\\site-packages\\matplotlib\\backends\\backend_agg.py:201: RuntimeWarning: Glyph 2471 missing from current font.\n",
      "  font.set_text(s, 0, flags=flags)\n",
      "C:\\ProgramData\\Anaconda3\\lib\\site-packages\\matplotlib\\backends\\backend_agg.py:201: RuntimeWarning: Glyph 2469 missing from current font.\n",
      "  font.set_text(s, 0, flags=flags)\n",
      "C:\\ProgramData\\Anaconda3\\lib\\site-packages\\matplotlib\\backends\\backend_agg.py:201: RuntimeWarning: Glyph 2437 missing from current font.\n",
      "  font.set_text(s, 0, flags=flags)\n",
      "C:\\ProgramData\\Anaconda3\\lib\\site-packages\\matplotlib\\backends\\backend_agg.py:201: RuntimeWarning: Glyph 2477 missing from current font.\n",
      "  font.set_text(s, 0, flags=flags)\n",
      "C:\\ProgramData\\Anaconda3\\lib\\site-packages\\matplotlib\\backends\\backend_agg.py:201: RuntimeWarning: Glyph 2479 missing from current font.\n",
      "  font.set_text(s, 0, flags=flags)\n",
      "C:\\ProgramData\\Anaconda3\\lib\\site-packages\\matplotlib\\backends\\backend_agg.py:201: RuntimeWarning: Glyph 2507 missing from current font.\n",
      "  font.set_text(s, 0, flags=flags)\n",
      "C:\\ProgramData\\Anaconda3\\lib\\site-packages\\matplotlib\\backends\\backend_agg.py:201: RuntimeWarning: Glyph 2509 missing from current font.\n",
      "  font.set_text(s, 0, flags=flags)\n"
     ]
    },
    {
     "data": {
      "image/png": "[encoded data removed]",
      "text/plain": [
       "<Figure size 432x288 with 1 Axes>"
      ]
     },
     "metadata": {
      "needs_background": "light"
     },
     "output_type": "display_data"
    }
   ],
   "source": [
    "lst_tokens_s = nltk.tokenize.word_tokenize(dtf[\"y_clean\"].str.cat(sep=\" \"))\n",
    "ngrams = [1]\n",
    "    \n",
    "## calculate\n",
    "dtf_freq_s = pd.DataFrame()\n",
    "for n in ngrams:\n",
    "   dic_words_freq = nltk.FreqDist(nltk.ngrams(lst_tokens_s, n))\n",
    "   dtf_n = pd.DataFrame(dic_words_freq.most_common(), columns=\n",
    "                        [\"word\",\"freq\"])\n",
    "   dtf_n[\"ngrams\"] = n\n",
    "   dtf_freq_s = dtf_freq_s.append(dtf_n)\n",
    "   dtf_freq_s[\"word\"] = dtf_freq_s[\"word\"].apply(lambda x: \"\".join(string for string in x) )\n",
    "   dtf_freq_y= dtf_freq_s.sort_values([\"ngrams\",\"freq\"], ascending=\n",
    "                         [True,False])\n",
    "    \n",
    "## plot\n",
    "sns.barplot(x=\"freq\", y=\"word\", hue=\"ngrams\", dodge=False,\n",
    " data=dtf_freq_s.groupby('ngrams')[\"ngrams\",\"freq\",\"word\"].head(30))\n",
    "plt.show()\n"
   ]
  },
  {
   "cell_type": "code",
   "execution_count": 21,
   "id": "bc0ceb62",
   "metadata": {},
   "outputs": [
    {
     "name": "stdout",
     "output_type": "stream",
     "text": [
      "76110\n",
      "29716\n"
     ]
    }
   ],
   "source": [
    "thres = 5 #<-- min frequency\n",
    "X_top_words = len(dtf_freq_X[dtf_freq_X[\"freq\"]>thres])\n",
    "y_top_words = len(dtf_freq_y[dtf_freq_y[\"freq\"]>thres])\n",
    "\n",
    "print(X_top_words)\n",
    "print(y_top_words)\n",
    "#X_top_words = 300\n",
    "#y_top_words = 100"
   ]
  },
  {
   "cell_type": "code",
   "execution_count": 22,
   "id": "4edd4435",
   "metadata": {},
   "outputs": [
    {
     "name": "stdout",
     "output_type": "stream",
     "text": [
      "[1]\n",
      "          word   freq  ngrams\n",
      "0        গতকাল  22380       1\n",
      "1        হয়েছে  20031       1\n",
      "2           এক  16308       1\n",
      "3     বাংলাদেশ   9463       1\n",
      "4        জাতীয়   8411       1\n",
      "5          হয়ে   7963       1\n",
      "6       আওয়ামী   7373       1\n",
      "7      উপজেলার   7112       1\n",
      "8         ঢাকা   6854       1\n",
      "9        পুলিশ   6641       1\n",
      "10       দেশের   6497       1\n",
      "11         সময়   6348       1\n",
      "12          গত   6150       1\n",
      "13      হয়েছেন   5603       1\n",
      "14        দিয়ে   5252       1\n",
      "15         শেখ   5194       1\n",
      "16         বছর   5075       1\n",
      "17           ১   5018       1\n",
      "18        নামে   4944       1\n",
      "19    রাজধানীর   4685       1\n",
      "20  বাংলাদেশের   4580       1\n",
      "21         কথা   4338       1\n",
      "22        জেলা   4289       1\n",
      "23       লীগের   4178       1\n",
      "24        নিহত   4167       1\n",
      "25       সাবেক   4136       1\n",
      "26         তিন   4093       1\n",
      "27      হিসেবে   4022       1\n",
      "28      অভিযোগ   3925       1\n",
      "29    বিরুদ্ধে   3914       1\n"
     ]
    }
   ],
   "source": [
    "# Find most common words in summaries\n",
    "dtf_freq = word_freq(corpus=dtf[\"y_clean\"], ngrams=[1], top=30, figsize=(10,7))"
   ]
  },
  {
   "cell_type": "code",
   "execution_count": 23,
   "id": "363c5dca",
   "metadata": {},
   "outputs": [],
   "source": [
    "def add_text_length(data, column):\n",
    "    dtf = data.copy()\n",
    "    dtf['word_count'] = dtf[column].apply(lambda x: len(nltk.word_tokenize(str(x))) )\n",
    "    dtf['char_count'] = dtf[column].apply(lambda x: sum(len(word) for word in nltk.word_tokenize(str(x))) )\n",
    "    dtf['sentence_count'] = dtf[column].apply(lambda x: len(nltk.sent_tokenize(str(x))) )\n",
    "    dtf['avg_word_length'] = dtf['char_count'] / dtf['word_count']\n",
    "    dtf['avg_sentence_lenght'] = dtf['word_count'] / dtf['sentence_count']\n",
    "    print(dtf[['char_count','word_count','sentence_count','avg_word_length','avg_sentence_lenght']].describe().T[[\"min\",\"mean\",\"max\"]])\n",
    "    return dtf"
   ]
  },
  {
   "cell_type": "code",
   "execution_count": 24,
   "id": "6c5df088",
   "metadata": {},
   "outputs": [
    {
     "name": "stdout",
     "output_type": "stream",
     "text": [
      "                     min        mean      max\n",
      "char_count           0.0  790.877446  22029.0\n",
      "word_count           0.0  132.127264   3776.0\n",
      "sentence_count       0.0    0.998384      1.0\n",
      "avg_word_length      1.0    5.982275     14.0\n",
      "avg_sentence_lenght  1.0  132.341190   3776.0\n"
     ]
    }
   ],
   "source": [
    "# Texts\n",
    "X = add_text_length(dtf, \"text_clean\")"
   ]
  },
  {
   "cell_type": "code",
   "execution_count": 25,
   "id": "ccab90e5",
   "metadata": {},
   "outputs": [],
   "source": [
    "#plot_distributions(X, x=\"word_count\", figsize=(10,3))"
   ]
  },
  {
   "cell_type": "code",
   "execution_count": 26,
   "id": "1104a6f7",
   "metadata": {},
   "outputs": [],
   "source": [
    "#X_len = 400"
   ]
  },
  {
   "cell_type": "code",
   "execution_count": 27,
   "id": "3f406bba",
   "metadata": {},
   "outputs": [
    {
     "name": "stdout",
     "output_type": "stream",
     "text": [
      "                          min        mean     max\n",
      "char_count           3.000000  149.543189  269.00\n",
      "word_count           1.000000   24.634353   76.00\n",
      "sentence_count       1.000000    1.000000    1.00\n",
      "avg_word_length      2.105263    6.153039   12.25\n",
      "avg_sentence_lenght  1.000000   24.634353   76.00\n"
     ]
    }
   ],
   "source": [
    "# Summaries\n",
    "y = add_text_length(dtf, \"y_clean\")"
   ]
  },
  {
   "cell_type": "code",
   "execution_count": 28,
   "id": "3bfcb69a",
   "metadata": {},
   "outputs": [],
   "source": [
    "#plot_distributions(y, x=\"word_count\", max_cat=1, figsize=(10,3))"
   ]
  },
  {
   "cell_type": "code",
   "execution_count": 29,
   "id": "0174d908",
   "metadata": {},
   "outputs": [],
   "source": [
    "#y_len = 40"
   ]
  },
  {
   "cell_type": "code",
   "execution_count": 30,
   "id": "f05a4ddd",
   "metadata": {},
   "outputs": [
    {
     "data": {
      "text/html": [
       "<div>\n",
       "<style scoped>\n",
       "    .dataframe tbody tr th:only-of-type {\n",
       "        vertical-align: middle;\n",
       "    }\n",
       "\n",
       "    .dataframe tbody tr th {\n",
       "        vertical-align: top;\n",
       "    }\n",
       "\n",
       "    .dataframe thead th {\n",
       "        text-align: right;\n",
       "    }\n",
       "</style>\n",
       "<table border=\"1\" class=\"dataframe\">\n",
       "  <thead>\n",
       "    <tr style=\"text-align: right;\">\n",
       "      <th></th>\n",
       "      <th>text</th>\n",
       "      <th>text_clean</th>\n",
       "      <th>y</th>\n",
       "      <th>y_clean</th>\n",
       "    </tr>\n",
       "  </thead>\n",
       "  <tbody>\n",
       "    <tr>\n",
       "      <th>0</th>\n",
       "      <td>\\n আজকের এইদিনে জন্মগ্রহণ করায় পাশ্চাত্যমতে ...</td>\n",
       "      <td>আজকের এইদিনে জন্মগ্রহণ করায় পাশ্চাত্যমতে ধনু র...</td>\n",
       "      <td>আজকের এইদিনে জন্মগ্রহণ করায় পাশ্চাত্যমতে আপনি ...</td>\n",
       "      <td>আজকের এইদিনে জন্মগ্রহণ করায় পাশ্চাত্যমতে ধনু র...</td>\n",
       "    </tr>\n",
       "    <tr>\n",
       "      <th>1</th>\n",
       "      <td>ব্রিটিশদের উপনিবেশ বিভাজন নীতির ফসল পাকিস্তান...</td>\n",
       "      <td>ব্রিটিশদের উপনিবেশ বিভাজন নীতির ফসল পাকিস্তানে...</td>\n",
       "      <td>ব্রিটিশদের উপনিবেশ বিভাজন নীতির ফসল পাকিস্তানে...</td>\n",
       "      <td>ব্রিটিশদের উপনিবেশ বিভাজন নীতির ফসল পাকিস্তানে...</td>\n",
       "    </tr>\n",
       "    <tr>\n",
       "      <th>2</th>\n",
       "      <td>মহান বিজয়ের মাস নিয়ে আপনার অভিব্যক্তি...  \\nব...</td>\n",
       "      <td>মহান বিজয়ের মাস অভিব্যক্তি বিজয়ের মাসে সবাইকে ...</td>\n",
       "      <td>মহান বিজয়ের মাস নিয়ে আপনার অভিব্যক্তি...   বিজ...</td>\n",
       "      <td>মহান বিজয়ের মাস অভিব্যক্তি বিজয়ের মাসে সবাইকে ...</td>\n",
       "    </tr>\n",
       "    <tr>\n",
       "      <th>3</th>\n",
       "      <td>তাদের বিয়ে নিয়ে দীর্ঘদিনের জল্পনার অবসান হলো।...</td>\n",
       "      <td>বিয়ে দীর্ঘদিনের জল্পনার অবসান হলো। ইতালির তাস্...</td>\n",
       "      <td>তাদের বিয়ে নিয়ে দীর্ঘদিনের জল্পনার অবসান হলো। ...</td>\n",
       "      <td>বিয়ে দীর্ঘদিনের জল্পনার অবসান হলো। ইতালির তাস্...</td>\n",
       "    </tr>\n",
       "    <tr>\n",
       "      <th>4</th>\n",
       "      <td>১৪ ডিসেম্বর মহান বুদ্ধিজীবী দিবসকে সামনে রেখে...</td>\n",
       "      <td>১৪ ডিসেম্বর মহান বুদ্ধিজীবী দিবসকে নির্মিত নাট...</td>\n",
       "      <td>১৪ ডিসেম্বর মহান বুদ্ধিজীবী দিবসকে সামনে রেখে ...</td>\n",
       "      <td>১৪ ডিসেম্বর মহান বুদ্ধিজীবী দিবসকে নির্মিত নাট...</td>\n",
       "    </tr>\n",
       "  </tbody>\n",
       "</table>\n",
       "</div>"
      ],
      "text/plain": [
       "                                                text  \\\n",
       "0    \\n আজকের এইদিনে জন্মগ্রহণ করায় পাশ্চাত্যমতে ...   \n",
       "1   ব্রিটিশদের উপনিবেশ বিভাজন নীতির ফসল পাকিস্তান...   \n",
       "2   মহান বিজয়ের মাস নিয়ে আপনার অভিব্যক্তি...  \\nব...   \n",
       "3   তাদের বিয়ে নিয়ে দীর্ঘদিনের জল্পনার অবসান হলো।...   \n",
       "4   ১৪ ডিসেম্বর মহান বুদ্ধিজীবী দিবসকে সামনে রেখে...   \n",
       "\n",
       "                                          text_clean  \\\n",
       "0  আজকের এইদিনে জন্মগ্রহণ করায় পাশ্চাত্যমতে ধনু র...   \n",
       "1  ব্রিটিশদের উপনিবেশ বিভাজন নীতির ফসল পাকিস্তানে...   \n",
       "2  মহান বিজয়ের মাস অভিব্যক্তি বিজয়ের মাসে সবাইকে ...   \n",
       "3  বিয়ে দীর্ঘদিনের জল্পনার অবসান হলো। ইতালির তাস্...   \n",
       "4  ১৪ ডিসেম্বর মহান বুদ্ধিজীবী দিবসকে নির্মিত নাট...   \n",
       "\n",
       "                                                   y  \\\n",
       "0  আজকের এইদিনে জন্মগ্রহণ করায় পাশ্চাত্যমতে আপনি ...   \n",
       "1  ব্রিটিশদের উপনিবেশ বিভাজন নীতির ফসল পাকিস্তানে...   \n",
       "2  মহান বিজয়ের মাস নিয়ে আপনার অভিব্যক্তি...   বিজ...   \n",
       "3  তাদের বিয়ে নিয়ে দীর্ঘদিনের জল্পনার অবসান হলো। ...   \n",
       "4  ১৪ ডিসেম্বর মহান বুদ্ধিজীবী দিবসকে সামনে রেখে ...   \n",
       "\n",
       "                                             y_clean  \n",
       "0  আজকের এইদিনে জন্মগ্রহণ করায় পাশ্চাত্যমতে ধনু র...  \n",
       "1  ব্রিটিশদের উপনিবেশ বিভাজন নীতির ফসল পাকিস্তানে...  \n",
       "2  মহান বিজয়ের মাস অভিব্যক্তি বিজয়ের মাসে সবাইকে ...  \n",
       "3  বিয়ে দীর্ঘদিনের জল্পনার অবসান হলো। ইতালির তাস্...  \n",
       "4  ১৪ ডিসেম্বর মহান বুদ্ধিজীবী দিবসকে নির্মিত নাট...  "
      ]
     },
     "execution_count": 30,
     "metadata": {},
     "output_type": "execute_result"
    }
   ],
   "source": [
    "dtf = dtf[[\"text\",\"text_clean\",\"y\",\"y_clean\"]]\n",
    "dtf.head()"
   ]
  },
  {
   "cell_type": "code",
   "execution_count": 31,
   "id": "b9b80c42",
   "metadata": {},
   "outputs": [
    {
     "data": {
      "text/html": [
       "<div>\n",
       "<style scoped>\n",
       "    .dataframe tbody tr th:only-of-type {\n",
       "        vertical-align: middle;\n",
       "    }\n",
       "\n",
       "    .dataframe tbody tr th {\n",
       "        vertical-align: top;\n",
       "    }\n",
       "\n",
       "    .dataframe thead th {\n",
       "        text-align: right;\n",
       "    }\n",
       "</style>\n",
       "<table border=\"1\" class=\"dataframe\">\n",
       "  <thead>\n",
       "    <tr style=\"text-align: right;\">\n",
       "      <th></th>\n",
       "      <th>text</th>\n",
       "      <th>text_clean</th>\n",
       "      <th>y</th>\n",
       "      <th>y_clean</th>\n",
       "    </tr>\n",
       "  </thead>\n",
       "  <tbody>\n",
       "    <tr>\n",
       "      <th>0</th>\n",
       "      <td>\\n আজকের এইদিনে জন্মগ্রহণ করায় পাশ্চাত্যমতে ...</td>\n",
       "      <td>আজকের এইদিনে জন্মগ্রহণ করায় পাশ্চাত্যমতে ধনু র...</td>\n",
       "      <td>আজকের এইদিনে জন্মগ্রহণ করায় পাশ্চাত্যমতে আপনি ...</td>\n",
       "      <td>আজকের এইদিনে জন্মগ্রহণ করায় পাশ্চাত্যমতে ধনু র...</td>\n",
       "    </tr>\n",
       "    <tr>\n",
       "      <th>1</th>\n",
       "      <td>ব্রিটিশদের উপনিবেশ বিভাজন নীতির ফসল পাকিস্তান...</td>\n",
       "      <td>ব্রিটিশদের উপনিবেশ বিভাজন নীতির ফসল পাকিস্তানে...</td>\n",
       "      <td>ব্রিটিশদের উপনিবেশ বিভাজন নীতির ফসল পাকিস্তানে...</td>\n",
       "      <td>ব্রিটিশদের উপনিবেশ বিভাজন নীতির ফসল পাকিস্তানে...</td>\n",
       "    </tr>\n",
       "    <tr>\n",
       "      <th>2</th>\n",
       "      <td>মহান বিজয়ের মাস নিয়ে আপনার অভিব্যক্তি...  \\nব...</td>\n",
       "      <td>মহান বিজয়ের মাস অভিব্যক্তি বিজয়ের মাসে সবাইকে ...</td>\n",
       "      <td>মহান বিজয়ের মাস নিয়ে আপনার অভিব্যক্তি...   বিজ...</td>\n",
       "      <td>মহান বিজয়ের মাস অভিব্যক্তি বিজয়ের মাসে সবাইকে ...</td>\n",
       "    </tr>\n",
       "    <tr>\n",
       "      <th>3</th>\n",
       "      <td>তাদের বিয়ে নিয়ে দীর্ঘদিনের জল্পনার অবসান হলো।...</td>\n",
       "      <td>বিয়ে দীর্ঘদিনের জল্পনার অবসান হলো। ইতালির তাস্...</td>\n",
       "      <td>তাদের বিয়ে নিয়ে দীর্ঘদিনের জল্পনার অবসান হলো। ...</td>\n",
       "      <td>বিয়ে দীর্ঘদিনের জল্পনার অবসান হলো। ইতালির তাস্...</td>\n",
       "    </tr>\n",
       "    <tr>\n",
       "      <th>4</th>\n",
       "      <td>১৪ ডিসেম্বর মহান বুদ্ধিজীবী দিবসকে সামনে রেখে...</td>\n",
       "      <td>১৪ ডিসেম্বর মহান বুদ্ধিজীবী দিবসকে নির্মিত নাট...</td>\n",
       "      <td>১৪ ডিসেম্বর মহান বুদ্ধিজীবী দিবসকে সামনে রেখে ...</td>\n",
       "      <td>১৪ ডিসেম্বর মহান বুদ্ধিজীবী দিবসকে নির্মিত নাট...</td>\n",
       "    </tr>\n",
       "    <tr>\n",
       "      <th>5</th>\n",
       "      <td>এই বছরটা দারুণ কাটল ইরফান খানের তার শেষ দুটি ...</td>\n",
       "      <td>বছরটা দারুণ কাটল ইরফান খানের শেষ ছবি হিন্দি মি...</td>\n",
       "      <td>এই বছরটা দারুণ কাটল ইরফান খানের তার শেষ দুটি ছ...</td>\n",
       "      <td>বছরটা দারুণ কাটল ইরফান খানের শেষ ছবি হিন্দি মি...</td>\n",
       "    </tr>\n",
       "    <tr>\n",
       "      <th>6</th>\n",
       "      <td>নোলক ছবির পোস্টারের ফার্স্ট লুক প্রকাশ হলো বর...</td>\n",
       "      <td>নোলক ছবির পোস্টারের ফার্স্ট লুক প্রকাশ বর্তমান...</td>\n",
       "      <td>নোলক ছবির পোস্টারের ফার্স্ট লুক প্রকাশ হলো বর্...</td>\n",
       "      <td>নোলক ছবির পোস্টারের ফার্স্ট লুক প্রকাশ বর্তমান...</td>\n",
       "    </tr>\n",
       "    <tr>\n",
       "      <th>7</th>\n",
       "      <td>এবার আর সাফটা চুক্তির আওতায় কিংবা রপ্তানির বি...</td>\n",
       "      <td>সাফটা চুক্তির আওতায় রপ্তানির বিনিময়ে ছবি আমদান...</td>\n",
       "      <td>এবার আর সাফটা চুক্তির আওতায় কিংবা রপ্তানির বিন...</td>\n",
       "      <td>সাফটা চুক্তির আওতায় রপ্তানির বিনিময়ে ছবি আমদান...</td>\n",
       "    </tr>\n",
       "    <tr>\n",
       "      <th>8</th>\n",
       "      <td>রবীন্দ্রসংগীতশিল্পী অণিমা রায় এবার ভারতের বাং...</td>\n",
       "      <td>রবীন্দ্রসংগীতশিল্পী অণিমা রায় ভারতের বাংলা ছবি...</td>\n",
       "      <td>রবীন্দ্রসংগীতশিল্পী অণিমা রায় এবার ভারতের বাংল...</td>\n",
       "      <td>রবীন্দ্রসংগীতশিল্পী অণিমা রায় ভারতের বাংলা ছবি...</td>\n",
       "    </tr>\n",
       "    <tr>\n",
       "      <th>9</th>\n",
       "      <td>আগামীকাল সন্ধ্যা ৭টায় মঞ্চায়ন হবে চারুনীড়ম থি...</td>\n",
       "      <td>আগামীকাল সন্ধ্যা ৭টায় মঞ্চায়ন চারুনীড়ম থিয়েটার...</td>\n",
       "      <td>আগামীকাল সন্ধ্যা ৭টায় মঞ্চায়ন হবে চারুনীড়ম থিয়...</td>\n",
       "      <td>আগামীকাল সন্ধ্যা ৭টায় মঞ্চায়ন চারুনীড়ম থিয়েটার...</td>\n",
       "    </tr>\n",
       "    <tr>\n",
       "      <th>10</th>\n",
       "      <td>একুশে পদকপ্রাপ্ত বরেণ্য নজরুল সংগীতশিল্পী ও স...</td>\n",
       "      <td>একুশে পদকপ্রাপ্ত বরেণ্য নজরুল সংগীতশিল্পী স্বা...</td>\n",
       "      <td>একুশে পদকপ্রাপ্ত বরেণ্য নজরুল সংগীতশিল্পী ও স্...</td>\n",
       "      <td>একুশে পদকপ্রাপ্ত বরেণ্য নজরুল সংগীতশিল্পী স্বা...</td>\n",
       "    </tr>\n",
       "  </tbody>\n",
       "</table>\n",
       "</div>"
      ],
      "text/plain": [
       "                                                 text  \\\n",
       "0     \\n আজকের এইদিনে জন্মগ্রহণ করায় পাশ্চাত্যমতে ...   \n",
       "1    ব্রিটিশদের উপনিবেশ বিভাজন নীতির ফসল পাকিস্তান...   \n",
       "2    মহান বিজয়ের মাস নিয়ে আপনার অভিব্যক্তি...  \\nব...   \n",
       "3    তাদের বিয়ে নিয়ে দীর্ঘদিনের জল্পনার অবসান হলো।...   \n",
       "4    ১৪ ডিসেম্বর মহান বুদ্ধিজীবী দিবসকে সামনে রেখে...   \n",
       "5    এই বছরটা দারুণ কাটল ইরফান খানের তার শেষ দুটি ...   \n",
       "6    নোলক ছবির পোস্টারের ফার্স্ট লুক প্রকাশ হলো বর...   \n",
       "7    এবার আর সাফটা চুক্তির আওতায় কিংবা রপ্তানির বি...   \n",
       "8    রবীন্দ্রসংগীতশিল্পী অণিমা রায় এবার ভারতের বাং...   \n",
       "9    আগামীকাল সন্ধ্যা ৭টায় মঞ্চায়ন হবে চারুনীড়ম থি...   \n",
       "10   একুশে পদকপ্রাপ্ত বরেণ্য নজরুল সংগীতশিল্পী ও স...   \n",
       "\n",
       "                                           text_clean  \\\n",
       "0   আজকের এইদিনে জন্মগ্রহণ করায় পাশ্চাত্যমতে ধনু র...   \n",
       "1   ব্রিটিশদের উপনিবেশ বিভাজন নীতির ফসল পাকিস্তানে...   \n",
       "2   মহান বিজয়ের মাস অভিব্যক্তি বিজয়ের মাসে সবাইকে ...   \n",
       "3   বিয়ে দীর্ঘদিনের জল্পনার অবসান হলো। ইতালির তাস্...   \n",
       "4   ১৪ ডিসেম্বর মহান বুদ্ধিজীবী দিবসকে নির্মিত নাট...   \n",
       "5   বছরটা দারুণ কাটল ইরফান খানের শেষ ছবি হিন্দি মি...   \n",
       "6   নোলক ছবির পোস্টারের ফার্স্ট লুক প্রকাশ বর্তমান...   \n",
       "7   সাফটা চুক্তির আওতায় রপ্তানির বিনিময়ে ছবি আমদান...   \n",
       "8   রবীন্দ্রসংগীতশিল্পী অণিমা রায় ভারতের বাংলা ছবি...   \n",
       "9   আগামীকাল সন্ধ্যা ৭টায় মঞ্চায়ন চারুনীড়ম থিয়েটার...   \n",
       "10  একুশে পদকপ্রাপ্ত বরেণ্য নজরুল সংগীতশিল্পী স্বা...   \n",
       "\n",
       "                                                    y  \\\n",
       "0   আজকের এইদিনে জন্মগ্রহণ করায় পাশ্চাত্যমতে আপনি ...   \n",
       "1   ব্রিটিশদের উপনিবেশ বিভাজন নীতির ফসল পাকিস্তানে...   \n",
       "2   মহান বিজয়ের মাস নিয়ে আপনার অভিব্যক্তি...   বিজ...   \n",
       "3   তাদের বিয়ে নিয়ে দীর্ঘদিনের জল্পনার অবসান হলো। ...   \n",
       "4   ১৪ ডিসেম্বর মহান বুদ্ধিজীবী দিবসকে সামনে রেখে ...   \n",
       "5   এই বছরটা দারুণ কাটল ইরফান খানের তার শেষ দুটি ছ...   \n",
       "6   নোলক ছবির পোস্টারের ফার্স্ট লুক প্রকাশ হলো বর্...   \n",
       "7   এবার আর সাফটা চুক্তির আওতায় কিংবা রপ্তানির বিন...   \n",
       "8   রবীন্দ্রসংগীতশিল্পী অণিমা রায় এবার ভারতের বাংল...   \n",
       "9   আগামীকাল সন্ধ্যা ৭টায় মঞ্চায়ন হবে চারুনীড়ম থিয়...   \n",
       "10  একুশে পদকপ্রাপ্ত বরেণ্য নজরুল সংগীতশিল্পী ও স্...   \n",
       "\n",
       "                                              y_clean  \n",
       "0   আজকের এইদিনে জন্মগ্রহণ করায় পাশ্চাত্যমতে ধনু র...  \n",
       "1   ব্রিটিশদের উপনিবেশ বিভাজন নীতির ফসল পাকিস্তানে...  \n",
       "2   মহান বিজয়ের মাস অভিব্যক্তি বিজয়ের মাসে সবাইকে ...  \n",
       "3   বিয়ে দীর্ঘদিনের জল্পনার অবসান হলো। ইতালির তাস্...  \n",
       "4   ১৪ ডিসেম্বর মহান বুদ্ধিজীবী দিবসকে নির্মিত নাট...  \n",
       "5   বছরটা দারুণ কাটল ইরফান খানের শেষ ছবি হিন্দি মি...  \n",
       "6   নোলক ছবির পোস্টারের ফার্স্ট লুক প্রকাশ বর্তমান...  \n",
       "7   সাফটা চুক্তির আওতায় রপ্তানির বিনিময়ে ছবি আমদান...  \n",
       "8   রবীন্দ্রসংগীতশিল্পী অণিমা রায় ভারতের বাংলা ছবি...  \n",
       "9   আগামীকাল সন্ধ্যা ৭টায় মঞ্চায়ন চারুনীড়ম থিয়েটার...  \n",
       "10  একুশে পদকপ্রাপ্ত বরেণ্য নজরুল সংগীতশিল্পী স্বা...  "
      ]
     },
     "execution_count": 31,
     "metadata": {},
     "output_type": "execute_result"
    }
   ],
   "source": [
    "##Preprocessing\n",
    "# Partitioning\n",
    "dtf_train = dtf.iloc[i+1:]\n",
    "dtf_test = dtf.iloc[:i+1]\n",
    "dtf_test"
   ]
  },
  {
   "cell_type": "code",
   "execution_count": 32,
   "id": "1a2a3cc7",
   "metadata": {},
   "outputs": [],
   "source": [
    "'''\n",
    "Transforms the corpus into an array of sequences of idx (tokenizer) with same length (padding).\n",
    ":parameter\n",
    "    :param corpus: list - dtf[\"text\"]\n",
    "    :param ngrams: num - ex. \"new\", \"york\"\n",
    "    :param grams_join: string - \"_\" (new_york), \" \" (new york)\n",
    "    :param lst_ngrams_detectors: list - [bigram and trigram models], if empty doesn't detect common n-grams\n",
    "    :param fitted_tokenizer: keras tokenizer - if None it creates one with fit and transorm (train set), if given it transforms only (test set)\n",
    "    :param top: num - if given the tokenizer keeps only top important words\n",
    "    :param oov: string - how to encode words not in vocabulary (ex. \"NAN\")\n",
    "    :param maxlen: num - dimensionality of the vectors, if None takes the max length in corpus\n",
    "    :param padding: string - <PAD> token\n",
    ":return\n",
    "    If training: matrix of sequences, tokenizer, dic_vocabulary. Else matrix of sequences only.\n",
    "'''\n",
    "def text2seq(corpus, ngrams=1, grams_join=\" \", lst_ngrams_detectors=[], fitted_tokenizer=None, top=None, oov=None, maxlen=None, padding=\"<PAD>\"):    \n",
    "    print(\"--- tokenization ---\")\n",
    "    \n",
    "    ## detect common n-grams in corpus\n",
    "    lst_corpus = utils_preprocess_ngrams(corpus, ngrams=ngrams, grams_join=grams_join, lst_ngrams_detectors=lst_ngrams_detectors)\n",
    "\n",
    "    ## bow with keras to get text2tokens without creating the sparse matrix\n",
    "    ### train\n",
    "    if fitted_tokenizer is None:\n",
    "        tokenizer = kprocessing.text.Tokenizer(num_words=top, lower=False, split=' ', char_level=False, oov_token=oov,\n",
    "                                               filters='!\"#$%&()*+,-./:;<=>?@[\\\\]^_`{|}~\\t\\n')\n",
    "        tokenizer.fit_on_texts(lst_corpus)\n",
    "        dic_vocabulary = {padding:0}\n",
    "        words = tokenizer.word_index if top is None else dict(list(tokenizer.word_index.items())[0:top+1])\n",
    "        dic_vocabulary.update(words)\n",
    "        print(len(dic_vocabulary), \"words\")\n",
    "    else:\n",
    "        tokenizer = fitted_tokenizer\n",
    "    ### transform\n",
    "    lst_text2seq = tokenizer.texts_to_sequences(lst_corpus)\n",
    "\n",
    "    ## padding sequence (from [1,2],[3,4,5,6] to [0,0,1,2],[3,4,5,6])\n",
    "    print(\"--- padding to sequence ---\")\n",
    "    X = kprocessing.sequence.pad_sequences(lst_text2seq, maxlen=maxlen, padding=\"post\", truncating=\"post\")\n",
    "    print(X.shape[0], \"sequences of length\", X.shape[1]) \n",
    "\n",
    "    ## plot heatmap\n",
    "    fig, ax = plt.subplots(figsize=(15,5))\n",
    "    sns.heatmap(X==0, vmin=0, vmax=1, cbar=False, ax=ax).set_title('Sequences Overview')\n",
    "    plt.show()\n",
    "    return {\"X\":X, \"tokenizer\":tokenizer, \"dic_vocabulary\":dic_vocabulary} if fitted_tokenizer is None else X\n",
    "\n"
   ]
  },
  {
   "cell_type": "code",
   "execution_count": 33,
   "id": "e2fb5d32",
   "metadata": {},
   "outputs": [],
   "source": [
    "###############################################################################\n",
    "#                        WORD2VEC (WORD EMBEDDING)                            #\n",
    "###############################################################################\n",
    "'''\n",
    "Create a list of lists of grams with gensim:\n",
    "    [ [\"hi\", \"my\", \"name\", \"is\", \"Tom\"], \n",
    "      [\"what\", \"is\", \"yours\"] ]\n",
    ":parameter\n",
    "    :param corpus: list - dtf[\"text\"]\n",
    "    :param ngrams: num - ex. \"new\", \"york\"\n",
    "    :param grams_join: string - \"_\" (new_york), \" \" (new york)\n",
    "    :param lst_ngrams_detectors: list - [bigram and trigram models], if empty doesn't detect common n-grams\n",
    ":return\n",
    "    lst of lists of n-grams\n",
    "'''\n",
    "\n",
    "def utils_preprocess_ngrams(corpus, ngrams=1, grams_join=\" \", lst_ngrams_detectors=[]):\n",
    "    ## create list of n-grams\n",
    "    lst_corpus = []\n",
    "    for string in corpus:\n",
    "        lst_words = string.split()\n",
    "        lst_grams = [grams_join.join(lst_words[i:i + ngrams]) for i in range(0, len(lst_words), ngrams)]\n",
    "        lst_corpus.append(lst_grams)\n",
    "    \n",
    "    ## detect common bi-grams and tri-grams\n",
    "    if len(lst_ngrams_detectors) != 0:\n",
    "        for detector in lst_ngrams_detectors:\n",
    "            lst_corpus = list(detector[lst_corpus])\n",
    "    return lst_corpus"
   ]
  },
  {
   "cell_type": "code",
   "execution_count": 34,
   "id": "5cdd8391",
   "metadata": {},
   "outputs": [
    {
     "name": "stdout",
     "output_type": "stream",
     "text": [
      "--- tokenization ---\n",
      "76112 words\n",
      "--- padding to sequence ---\n",
      "107631 sequences of length 300\n"
     ]
    },
    {
     "data": {
      "image/png": "[encoded data removed]",
      "text/plain": [
       "<Figure size 1080x360 with 1 Axes>"
      ]
     },
     "metadata": {
      "needs_background": "light"
     },
     "output_type": "display_data"
    }
   ],
   "source": [
    "# Create X_train for seq2seq (sequences of tokens)\n",
    "dic_seq = text2seq(corpus=dtf_train[\"text_clean\"], top=X_top_words, maxlen=X_len)\n",
    "\n",
    "X_train, X_tokenizer, X_dic_vocabulary = dic_seq[\"X\"], dic_seq[\"tokenizer\"], dic_seq[\"dic_vocabulary\"]"
   ]
  },
  {
   "cell_type": "code",
   "execution_count": 35,
   "id": "6ffb2ad7",
   "metadata": {},
   "outputs": [
    {
     "data": {
      "text/plain": [
       "{'<PAD>': 0, 'হয়েছে': 1, 'এক': 2, 'গতকাল': 3, 'হয়ে': 4, 'সময়': 5}"
      ]
     },
     "execution_count": 35,
     "metadata": {},
     "output_type": "execute_result"
    }
   ],
   "source": [
    "dict(list(X_dic_vocabulary.items())[0:6])"
   ]
  },
  {
   "cell_type": "code",
   "execution_count": 36,
   "id": "a24d081a",
   "metadata": {},
   "outputs": [
    {
     "name": "stdout",
     "output_type": "stream",
     "text": [
      "--- tokenization ---\n",
      "--- padding to sequence ---\n",
      "11 sequences of length 300\n"
     ]
    },
    {
     "data": {
      "image/png": "[encoded data removed]",
      "text/plain": [
       "<Figure size 1080x360 with 1 Axes>"
      ]
     },
     "metadata": {
      "needs_background": "light"
     },
     "output_type": "display_data"
    }
   ],
   "source": [
    "# Preprocess X_test with the same tokenizer\n",
    "X_test = text2seq(corpus=dtf_test[\"text_clean\"], fitted_tokenizer=X_tokenizer, maxlen=X_train.shape[1])"
   ]
  },
  {
   "cell_type": "code",
   "execution_count": 37,
   "id": "dec3ff9e",
   "metadata": {},
   "outputs": [
    {
     "name": "stderr",
     "output_type": "stream",
     "text": [
      "<ipython-input-37-0e70c5ec9797>:3: SettingWithCopyWarning: \n",
      "A value is trying to be set on a copy of a slice from a DataFrame.\n",
      "Try using .loc[row_indexer,col_indexer] = value instead\n",
      "\n",
      "See the caveats in the documentation: https://pandas.pydata.org/pandas-docs/stable/user_guide/indexing.html#returning-a-view-versus-a-copy\n",
      "  dtf_train[\"y_clean\"] = dtf_train['y_clean'].apply(lambda x: special_tokens[0]+' '+x+' '+special_tokens[1])\n",
      "<ipython-input-37-0e70c5ec9797>:4: SettingWithCopyWarning: \n",
      "A value is trying to be set on a copy of a slice from a DataFrame.\n",
      "Try using .loc[row_indexer,col_indexer] = value instead\n",
      "\n",
      "See the caveats in the documentation: https://pandas.pydata.org/pandas-docs/stable/user_guide/indexing.html#returning-a-view-versus-a-copy\n",
      "  dtf_test[\"y_clean\"] = dtf_test['y_clean'].apply(lambda x: special_tokens[0]+' '+x+' '+special_tokens[1])\n"
     ]
    },
    {
     "data": {
      "text/plain": [
       "'<START> একুশে পদকপ্রাপ্ত বরেণ্য নজরুল সংগীতশিল্পী স্বাধীনতা সংগ্রামের কণ্ঠযোদ্ধা শাহীন সামাদের উপস্থাপনায় আসছে বিজয় দিবস উপলক্ষে বাংলাদেশ টেলিভিশনে প্রচারের নির্মিত হয়েছে বিজয়ের গানের সংগীতানুষ্ঠান বিজয় নিশান উড়ছে মাহবুবা ফেরদৌসের প্রযোজনায় অনুষ্ঠানে সংগীত পরিবেশন মার্লিন রাশেদ অপু <END>'"
      ]
     },
     "execution_count": 37,
     "metadata": {},
     "output_type": "execute_result"
    }
   ],
   "source": [
    "# Add START and END tokens to the summaries (y)\n",
    "special_tokens = (\"<START>\", \"<END>\")\n",
    "dtf_train[\"y_clean\"] = dtf_train['y_clean'].apply(lambda x: special_tokens[0]+' '+x+' '+special_tokens[1])\n",
    "dtf_test[\"y_clean\"] = dtf_test['y_clean'].apply(lambda x: special_tokens[0]+' '+x+' '+special_tokens[1])\n",
    "dtf_test[\"y_clean\"][i]"
   ]
  },
  {
   "cell_type": "code",
   "execution_count": 38,
   "id": "015f717a",
   "metadata": {},
   "outputs": [
    {
     "name": "stdout",
     "output_type": "stream",
     "text": [
      "--- tokenization ---\n",
      "29718 words\n",
      "--- padding to sequence ---\n",
      "107631 sequences of length 35\n"
     ]
    },
    {
     "data": {
      "image/png": "[encoded data removed]",
      "text/plain": [
       "<Figure size 1080x360 with 1 Axes>"
      ]
     },
     "metadata": {
      "needs_background": "light"
     },
     "output_type": "display_data"
    }
   ],
   "source": [
    "# Tokenize the summaries (y_train)\n",
    "dic_seq = text2seq(corpus=dtf_train[\"y_clean\"], top=y_top_words, maxlen=y_len)\n",
    "\n",
    "#y_train, y_tokenizer, y_dic_vocabulary = dic_seq[\"X\"], dic_seq[\"tokenizer\"], dic_seq[\"dic_vocabulary\"]"
   ]
  },
  {
   "cell_type": "code",
   "execution_count": 39,
   "id": "af7ca29f",
   "metadata": {},
   "outputs": [],
   "source": [
    "y_train, y_tokenizer = dic_seq[\"X\"], dic_seq[\"tokenizer\"]"
   ]
  },
  {
   "cell_type": "code",
   "execution_count": 40,
   "id": "d405d371",
   "metadata": {},
   "outputs": [],
   "source": [
    "#dict(list(y_dic_vocabulary.items())[0:6])"
   ]
  },
  {
   "cell_type": "code",
   "execution_count": 41,
   "id": "ccf91911",
   "metadata": {},
   "outputs": [
    {
     "name": "stdout",
     "output_type": "stream",
     "text": [
      "--- tokenization ---\n",
      "--- padding to sequence ---\n",
      "11 sequences of length 35\n"
     ]
    },
    {
     "data": {
      "image/png": "[encoded data removed]",
      "text/plain": [
       "<Figure size 1080x360 with 1 Axes>"
      ]
     },
     "metadata": {
      "needs_background": "light"
     },
     "output_type": "display_data"
    }
   ],
   "source": [
    "# Preprocess y_test with the same tokenizer\n",
    "y_test = text2seq(corpus=dtf_test[\"y_clean\"], fitted_tokenizer=y_tokenizer, maxlen=y_train.shape[1])"
   ]
  },
  {
   "cell_type": "code",
   "execution_count": 49,
   "id": "27acf8b1",
   "metadata": {},
   "outputs": [
    {
     "name": "stdout",
     "output_type": "stream",
     "text": [
      "Collecting bnlp_toolkit\n",
      "  Using cached bnlp_toolkit-3.2.0-py3-none-any.whl (19 kB)\n",
      "Collecting gensim==4.0.1\n",
      "  Using cached gensim-4.0.1-cp38-cp38-win_amd64.whl (23.9 MB)\n",
      "Collecting sklearn-crfsuite\n",
      "  Using cached sklearn_crfsuite-0.3.6-py2.py3-none-any.whl (12 kB)\n",
      "Collecting sentencepiece\n",
      "  Using cached sentencepiece-0.1.97-cp38-cp38-win_amd64.whl (1.1 MB)\n",
      "Requirement already satisfied: nltk in c:\\programdata\\anaconda3\\lib\\site-packages (from bnlp_toolkit) (3.6.1)\n",
      "Requirement already satisfied: tqdm in c:\\programdata\\anaconda3\\lib\\site-packages (from bnlp_toolkit) (4.59.0)\n",
      "Requirement already satisfied: scipy in c:\\programdata\\anaconda3\\lib\\site-packages (from bnlp_toolkit) (1.6.2)\n",
      "Requirement already satisfied: numpy in c:\\programdata\\anaconda3\\lib\\site-packages (from bnlp_toolkit) (1.20.1)\n",
      "Collecting wasabi\n",
      "  Using cached wasabi-0.10.1-py3-none-any.whl (26 kB)\n",
      "Collecting Cython==0.29.21\n",
      "  Using cached Cython-0.29.21-cp38-cp38-win_amd64.whl (1.7 MB)\n",
      "Requirement already satisfied: smart-open>=1.8.1 in c:\\programdata\\anaconda3\\lib\\site-packages (from gensim==4.0.1->bnlp_toolkit) (6.2.0)\n",
      "Requirement already satisfied: regex in c:\\programdata\\anaconda3\\lib\\site-packages (from nltk->bnlp_toolkit) (2021.4.4)\n",
      "Requirement already satisfied: joblib in c:\\programdata\\anaconda3\\lib\\site-packages (from nltk->bnlp_toolkit) (1.0.1)\n",
      "Requirement already satisfied: click in c:\\programdata\\anaconda3\\lib\\site-packages (from nltk->bnlp_toolkit) (7.1.2)\n",
      "Requirement already satisfied: tabulate in c:\\programdata\\anaconda3\\lib\\site-packages (from sklearn-crfsuite->bnlp_toolkit) (0.9.0)\n",
      "Requirement already satisfied: six in c:\\programdata\\anaconda3\\lib\\site-packages (from sklearn-crfsuite->bnlp_toolkit) (1.15.0)\n",
      "Requirement already satisfied: python-crfsuite>=0.8.3 in c:\\programdata\\anaconda3\\lib\\site-packages (from sklearn-crfsuite->bnlp_toolkit) (0.9.8)\n",
      "Installing collected packages: Cython, wasabi, sklearn-crfsuite, sentencepiece, gensim, bnlp-toolkit\n",
      "  Attempting uninstall: Cython\n",
      "    Found existing installation: Cython 0.29.28\n",
      "    Uninstalling Cython-0.29.28:\n",
      "Note: you may need to restart the kernel to use updated packages.\n"
     ]
    },
    {
     "name": "stderr",
     "output_type": "stream",
     "text": [
      "ERROR: Could not install packages due to an OSError: [WinError 5] Access is denied: 'c:\\\\programdata\\\\anaconda3\\\\lib\\\\site-packages\\\\cython-0.29.28.dist-info\\\\COPYING.txt'\n",
      "Consider using the `--user` option or check the permissions.\n",
      "\n"
     ]
    }
   ],
   "source": [
    "pip install bnlp_toolkit\n",
    "from bnlp import BengaliWord2Vec\n",
    "\n",
    "bwv = BengaliWord2Vec()\n",
    "model_path = \"bengali_word2vec.model\"\n",
    "word = 'গ্রাম'\n",
    "vector = bwv.generate_word_vector(model_path, word)\n",
    "print(vector.shape)\n",
    "print(vector)"
   ]
  },
  {
   "cell_type": "code",
   "execution_count": 46,
   "id": "f89a3272",
   "metadata": {},
   "outputs": [],
   "source": [
    "import gensim.downloader as gensim_api"
   ]
  },
  {
   "cell_type": "code",
   "execution_count": 57,
   "id": "4052bfc0",
   "metadata": {},
   "outputs": [],
   "source": [
    "##Create Embedding Weights\n",
    "# Load pre-trained Word2Vec\n",
    "#import gensim\n",
    "nlp = gensim_api.load(\"glove-wiki-gigaword-300\")\n",
    "##bn_glove.39M.300d\n",
    "#model = gensim.models.keyedvectors.Word2VecKeyedVectors.load_word2vec_format(model_file)\n",
    "\n",
    "#nlp = gensim_api.load()\n",
    "# Or train Word2Vec from scratch\n",
    "#corpus =  dtf_train[\"text_clean\"].append(dtf_train[\"y_clean\"])\n",
    "#lst_corpus, nlp = fit_w2v(corpus=corpus, min_count=1, size=300, window=y_avg_len)"
   ]
  },
  {
   "cell_type": "code",
   "execution_count": 58,
   "id": "21f20c60",
   "metadata": {},
   "outputs": [
    {
     "data": {
      "text/plain": [
       "(300,)"
      ]
     },
     "execution_count": 58,
     "metadata": {},
     "output_type": "execute_result"
    }
   ],
   "source": [
    "# check nlp model\n",
    "word = \"home\"\n",
    "nlp[word].shape"
   ]
  },
  {
   "cell_type": "code",
   "execution_count": 62,
   "id": "4ef25b96",
   "metadata": {},
   "outputs": [],
   "source": [
    "\n",
    "'''\n",
    "Embeds a vocabulary of unigrams with gensim w2v.\n",
    ":parameter\n",
    "    :param dic_vocabulary: dict - {\"word\":1, \"word\":2, ...}\n",
    "    :param nlp: gensim model\n",
    ":return\n",
    "    Matric and the nlp model\n",
    "'''\n",
    "def vocabulary_embeddings(dic_vocabulary, nlp=None):\n",
    "    nlp = gensim_api.load(\"glove-wiki-gigaword-300\") if nlp is None else nlp\n",
    "    embeddings = nlp.zeros((len(dic_vocabulary)+1, nlp.vector_size))\n",
    "    for word,idx in dic_vocabulary.items():\n",
    "        ## update the row with vector\n",
    "        try:\n",
    "            embeddings[idx] =  nlp[word]\n",
    "        ## if word not in model then skip and the row stays all zeros\n",
    "        except:\n",
    "            pass\n",
    "    print(\"vocabulary mapped to\", embeddings.shape[0], \"vectors of size\", embeddings.shape[1])\n",
    "    return embeddings"
   ]
  },
  {
   "cell_type": "code",
   "execution_count": 63,
   "id": "98e3cfde",
   "metadata": {},
   "outputs": [
    {
     "ename": "AttributeError",
     "evalue": "'KeyedVectors' object has no attribute 'zeros'",
     "output_type": "error",
     "traceback": [
      "\u001b[1;31m---------------------------------------------------------------------------\u001b[0m",
      "\u001b[1;31mAttributeError\u001b[0m                            Traceback (most recent call last)",
      "\u001b[1;32m<ipython-input-63-cef34c5298be>\u001b[0m in \u001b[0;36m<module>\u001b[1;34m\u001b[0m\n\u001b[1;32m----> 1\u001b[1;33m \u001b[0mX_embeddings\u001b[0m \u001b[1;33m=\u001b[0m \u001b[0mvocabulary_embeddings\u001b[0m\u001b[1;33m(\u001b[0m\u001b[0mX_dic_vocabulary\u001b[0m\u001b[1;33m,\u001b[0m \u001b[0mnlp\u001b[0m\u001b[1;33m)\u001b[0m\u001b[1;33m\u001b[0m\u001b[1;33m\u001b[0m\u001b[0m\n\u001b[0m\u001b[0;32m      2\u001b[0m \u001b[0mX_embeddings\u001b[0m\u001b[1;33m.\u001b[0m\u001b[0mshape\u001b[0m\u001b[1;33m\u001b[0m\u001b[1;33m\u001b[0m\u001b[0m\n",
      "\u001b[1;32m<ipython-input-62-4a750edae173>\u001b[0m in \u001b[0;36mvocabulary_embeddings\u001b[1;34m(dic_vocabulary, nlp)\u001b[0m\n\u001b[0;32m      9\u001b[0m \u001b[1;32mdef\u001b[0m \u001b[0mvocabulary_embeddings\u001b[0m\u001b[1;33m(\u001b[0m\u001b[0mdic_vocabulary\u001b[0m\u001b[1;33m,\u001b[0m \u001b[0mnlp\u001b[0m\u001b[1;33m=\u001b[0m\u001b[1;32mNone\u001b[0m\u001b[1;33m)\u001b[0m\u001b[1;33m:\u001b[0m\u001b[1;33m\u001b[0m\u001b[1;33m\u001b[0m\u001b[0m\n\u001b[0;32m     10\u001b[0m     \u001b[0mnlp\u001b[0m \u001b[1;33m=\u001b[0m \u001b[0mgensim_api\u001b[0m\u001b[1;33m.\u001b[0m\u001b[0mload\u001b[0m\u001b[1;33m(\u001b[0m\u001b[1;34m\"glove-wiki-gigaword-300\"\u001b[0m\u001b[1;33m)\u001b[0m \u001b[1;32mif\u001b[0m \u001b[0mnlp\u001b[0m \u001b[1;32mis\u001b[0m \u001b[1;32mNone\u001b[0m \u001b[1;32melse\u001b[0m \u001b[0mnlp\u001b[0m\u001b[1;33m\u001b[0m\u001b[1;33m\u001b[0m\u001b[0m\n\u001b[1;32m---> 11\u001b[1;33m     \u001b[0membeddings\u001b[0m \u001b[1;33m=\u001b[0m \u001b[0mnlp\u001b[0m\u001b[1;33m.\u001b[0m\u001b[0mzeros\u001b[0m\u001b[1;33m(\u001b[0m\u001b[1;33m(\u001b[0m\u001b[0mlen\u001b[0m\u001b[1;33m(\u001b[0m\u001b[0mdic_vocabulary\u001b[0m\u001b[1;33m)\u001b[0m\u001b[1;33m+\u001b[0m\u001b[1;36m1\u001b[0m\u001b[1;33m,\u001b[0m \u001b[0mnlp\u001b[0m\u001b[1;33m.\u001b[0m\u001b[0mvector_size\u001b[0m\u001b[1;33m)\u001b[0m\u001b[1;33m)\u001b[0m\u001b[1;33m\u001b[0m\u001b[1;33m\u001b[0m\u001b[0m\n\u001b[0m\u001b[0;32m     12\u001b[0m     \u001b[1;32mfor\u001b[0m \u001b[0mword\u001b[0m\u001b[1;33m,\u001b[0m\u001b[0midx\u001b[0m \u001b[1;32min\u001b[0m \u001b[0mdic_vocabulary\u001b[0m\u001b[1;33m.\u001b[0m\u001b[0mitems\u001b[0m\u001b[1;33m(\u001b[0m\u001b[1;33m)\u001b[0m\u001b[1;33m:\u001b[0m\u001b[1;33m\u001b[0m\u001b[1;33m\u001b[0m\u001b[0m\n\u001b[0;32m     13\u001b[0m         \u001b[1;31m## update the row with vector\u001b[0m\u001b[1;33m\u001b[0m\u001b[1;33m\u001b[0m\u001b[1;33m\u001b[0m\u001b[0m\n",
      "\u001b[1;31mAttributeError\u001b[0m: 'KeyedVectors' object has no attribute 'zeros'"
     ]
    }
   ],
   "source": [
    "X_embeddings = vocabulary_embeddings(X_dic_vocabulary, nlp)\n",
    "X_embeddings.shape"
   ]
  },
  {
   "cell_type": "code",
   "execution_count": null,
   "id": "61f094bf",
   "metadata": {},
   "outputs": [],
   "source": [
    "y_embeddings = vocabulary_embeddings(y_dic_vocabulary, nlp)\n",
    "y_embeddings.shape"
   ]
  },
  {
   "cell_type": "code",
   "execution_count": null,
   "id": "7212dfee",
   "metadata": {},
   "outputs": [],
   "source": [
    "##Model Design\n",
    "# Basic Seq2Seq\n",
    "lstm_units = 250\n",
    "embeddings_size = 300\n",
    "\n",
    "##------------ ENCODER (embeddings + lstm) -----------------------------##\n",
    "x_in = layers.Input(name=\"x_in\", shape=(X_train.shape[1],))\n",
    "### embedding\n",
    "layer_x_emb = layers.Embedding(name=\"x_emb\", input_dim=len(X_dic_vocabulary), output_dim=embeddings_size, \n",
    "                               trainable=True)\n",
    "x_emb = layer_x_emb(x_in)\n",
    "### lstm \n",
    "layer_x_lstm = layers.LSTM(name=\"x_lstm\", units=lstm_units, dropout=0.4,  \n",
    "                           return_sequences=True, return_state=True)\n",
    "x_out, state_h, state_c = layer_x_lstm(x_emb)\n",
    "\n",
    "##------------ DECODER (embeddings + lstm + dense) ---------------------##\n",
    "y_in = layers.Input(name=\"y_in\", shape=(None,))\n",
    "### embedding\n",
    "layer_y_emb = layers.Embedding(name=\"y_emb\", input_dim=len(y_dic_vocabulary), output_dim=embeddings_size, \n",
    "                               trainable=True)\n",
    "y_emb = layer_y_emb(y_in)\n",
    "### lstm \n",
    "layer_y_lstm = layers.LSTM(name=\"y_lstm\", units=lstm_units, dropout=0.4,\n",
    "                           return_sequences=True, return_state=True)\n",
    "y_out, _, _ = layer_y_lstm(y_emb, initial_state=[state_h, state_c])\n",
    "### final dense layers\n",
    "layer_dense = layers.TimeDistributed(name=\"dense\", \n",
    "                                     layer=layers.Dense(units=len(y_dic_vocabulary), activation='softmax'))\n",
    "y_out = layer_dense(y_out)\n",
    "\n",
    "##---------------------------- COMPILE --------------------------------##\n",
    "model = models.Model(inputs=[x_in, y_in], outputs=y_out, name=\"Seq2Seq\")\n",
    "model.compile(optimizer='rmsprop', loss='sparse_categorical_crossentropy', metrics=['accuracy'])\n",
    "\n",
    "model.summary()"
   ]
  },
  {
   "cell_type": "code",
   "execution_count": null,
   "id": "8b282a2b",
   "metadata": {},
   "outputs": [],
   "source": [
    "# Advanced Seq2Seq\n",
    "lstm_units = 250\n",
    "\n",
    "##------------ ENCODER (pre-trained embeddings + 3 bi-lstm) ---------------##\n",
    "x_in = layers.Input(name=\"x_in\", shape=(X_train.shape[1],))\n",
    "### embedding\n",
    "layer_x_emb = layers.Embedding(name=\"x_emb\", input_dim=X_embeddings.shape[0], output_dim=X_embeddings.shape[1], \n",
    "                               weights=[X_embeddings], trainable=False)\n",
    "x_emb = layer_x_emb(x_in)\n",
    "### bi-lstm 1\n",
    "layer_x_bilstm = layers.Bidirectional(layers.LSTM(units=lstm_units, dropout=0.4, recurrent_dropout=0.4,\n",
    "                                                  return_sequences=True, return_state=True), \n",
    "                                      name=\"x_lstm_1\")\n",
    "x_out, _, _, _, _ = layer_x_bilstm(x_emb)\n",
    "### bi-lstm 2\n",
    "layer_x_bilstm = layers.Bidirectional(layers.LSTM(units=lstm_units, dropout=0.4, recurrent_dropout=0.4,\n",
    "                                                  return_sequences=True, return_state=True),\n",
    "                                      name=\"x_lstm_2\")\n",
    "x_out, _, _, _, _ = layer_x_bilstm(x_out)\n",
    "### bi-lstm 3 (here final states are collected)\n",
    "layer_x_bilstm = layers.Bidirectional(layers.LSTM(units=lstm_units, dropout=0.4, recurrent_dropout=0.4, \n",
    "                                                  return_sequences=True, return_state=True),\n",
    "                                      name=\"x_lstm_3\")\n",
    "x_out, forward_h, forward_c, backward_h, backward_c = layer_x_bilstm(x_out)\n",
    "state_h = layers.Concatenate()([forward_h, backward_h])\n",
    "state_c = layers.Concatenate()([forward_c, backward_c])\n",
    "\n",
    "##------------ DECODER (pre-trained embeddings + lstm + dense) ------------##\n",
    "y_in = layers.Input(name=\"y_in\", shape=(None,))\n",
    "### embedding\n",
    "layer_y_emb = layers.Embedding(name=\"y_emb\", input_dim=y_embeddings.shape[0], output_dim=y_embeddings.shape[1], \n",
    "                               weights=[y_embeddings], trainable=False)\n",
    "y_emb = layer_y_emb(y_in)\n",
    "### lstm\n",
    "layer_y_lstm = layers.LSTM(name=\"y_lstm\", units=lstm_units*2, dropout=0.2, recurrent_dropout=0.2,\n",
    "                           return_sequences=True, return_state=True)\n",
    "y_out, _, _ = layer_y_lstm(y_emb, initial_state=[state_h, state_c])\n",
    "### final dense layers\n",
    "layer_dense = layers.TimeDistributed(name=\"dense\", \n",
    "                                     layer=layers.Dense(units=len(y_dic_vocabulary), activation='softmax'))\n",
    "y_out = layer_dense(y_out)\n",
    "\n",
    "##---------------------------- COMPILE ------------------------------------##\n",
    "model = models.Model(inputs=[x_in, y_in], outputs=y_out, name=\"Seq2Seq\")\n",
    "model.compile(optimizer='rmsprop', loss='sparse_categorical_crossentropy')\n",
    "\n",
    "model.summary()"
   ]
  },
  {
   "cell_type": "code",
   "execution_count": 61,
   "id": "37d5b544",
   "metadata": {},
   "outputs": [],
   "source": [
    "\n",
    "###############################################################################\n",
    "#                             SEQ2SEQ                                         #\n",
    "###############################################################################\n",
    "'''\n",
    "Fits a keras seq2seq model.\n",
    ":parameter\n",
    "    :param X_train: array of sequences\n",
    "    :param y_train: array of sequences\n",
    "    :param model: model object - model to fit (before fitting)\n",
    "    :param X_embeddings: array of weights - shape (len_vocabulary x 300)\n",
    "    :param y_embeddings: array of weights - shape (len_vocabulary x 300)\n",
    "    :param build_encoder_decoder: logic - if True returns prediction encoder-decoder\n",
    ":return\n",
    "    fitted model, encoder + decoder (if model is noy given)\n",
    "'''\n",
    "def fit_seq2seq(X_train, y_train, model=None, X_embeddings=None, y_embeddings=None, build_encoder_decoder=True, epochs=100, batch_size=64, verbose=1):    \n",
    "    ## model\n",
    "    if model is None:\n",
    "        ### params\n",
    "        len_vocabulary_X, embeddings_dim_X = X_embeddings.shape\n",
    "        len_vocabulary_y, embeddings_dim_y = y_embeddings.shape\n",
    "        lstm_units = 250\n",
    "        max_seq_lenght = X_train.shape[1]\n",
    "        ### encoder (embedding + lstm)\n",
    "        x_in = layers.Input(name=\"x_in\", shape=(max_seq_lenght,))\n",
    "        layer_x_emb = layers.Embedding(name=\"x_emb\", input_dim=len_vocabulary_X, output_dim=embeddings_dim_X, \n",
    "                                       weights=[X_embeddings], trainable=False)\n",
    "        x_emb = layer_x_emb(x_in)\n",
    "        layer_x_lstm = layers.LSTM(name=\"x_lstm\", units=lstm_units, return_sequences=True, return_state=True)\n",
    "        x_out, state_h, state_c = layer_x_lstm(x_emb)\n",
    "        ### decoder (embedding + lstm + dense)\n",
    "        y_in = layers.Input(name=\"y_in\", shape=(None,))\n",
    "        layer_y_emb = layers.Embedding(name=\"y_emb\", input_dim=len_vocabulary_y, output_dim=embeddings_dim_y, \n",
    "                                       weights=[y_embeddings], trainable=False)\n",
    "        y_emb = layer_y_emb(y_in)\n",
    "        layer_y_lstm = layers.LSTM(name=\"y_lstm\", units=lstm_units, return_sequences=True, return_state=True)\n",
    "        y_out, _, _ = layer_y_lstm(y_emb, initial_state=[state_h, state_c])\n",
    "        layer_dense = layers.TimeDistributed(name=\"dense\", \n",
    "                                             layer=layers.Dense(units=len_vocabulary_y, activation='softmax'))\n",
    "        y_out = layer_dense(y_out)\n",
    "        ### compile\n",
    "        model = models.Model(inputs=[x_in, y_in], outputs=y_out, name=\"Seq2Seq\")\n",
    "        model.compile(loss='sparse_categorical_crossentropy', optimizer='rmsprop', metrics=['accuracy'])\n",
    "        print(model.summary())\n",
    "        \n",
    "    ## train\n",
    "    training = model.fit(x=[X_train, y_train[:,:-1]], \n",
    "                         y=y_train.reshape(y_train.shape[0], y_train.shape[1], 1)[:,1:],\n",
    "                         batch_size=batch_size, epochs=epochs, shuffle=True, verbose=verbose, validation_split=0.3,\n",
    "                         callbacks=[callbacks.EarlyStopping(monitor='val_loss', mode='min', verbose=1, patience=2)])\n",
    "    if epochs > 1:\n",
    "        utils_plot_keras_training(training)\n",
    "    \n",
    "    ## build prediction enconder-decoder model\n",
    "    if build_encoder_decoder is True:\n",
    "        lstm_units = lstm_units*2 if any(\"Bidirectional\" in str(layer) for layer in model.layers) else lstm_units\n",
    "        ### encoder\n",
    "        encoder_model = models.Model(inputs=x_in, outputs=[x_out, state_h, state_c], name=\"Prediction_Encoder\")\n",
    "        ### decoder\n",
    "        encoder_out = layers.Input(shape=(max_seq_lenght, lstm_units))\n",
    "        state_h, state_c = layers.Input(shape=(lstm_units,)), layers.Input(shape=(lstm_units,))\n",
    "        y_emb2 = layer_y_emb(y_in)\n",
    "        y_out2, new_state_h, new_state_c = layer_y_lstm(y_emb2, initial_state=[state_h, state_c])\n",
    "        predicted_prob = layer_dense(y_out2) \n",
    "        decoder_model = models.Model(inputs=[y_in, encoder_out, state_h, state_c], \n",
    "                                     outputs=[predicted_prob, new_state_h, new_state_c], \n",
    "                                     name=\"Prediction_Decoder\")\n",
    "        return training.model, encoder_model, decoder_model\n",
    "    else:\n",
    "        return training.model\n",
    "\n"
   ]
  },
  {
   "cell_type": "code",
   "execution_count": null,
   "id": "c74914e7",
   "metadata": {},
   "outputs": [],
   "source": [
    "#Train\n",
    "# This takes a while\n",
    "model = fit_seq2seq(X_train, y_train, model, build_encoder_decoder=False, \n",
    "                    epochs=100, batch_size=64, verbose=1)\n",
    "#model, encoder_model, decoder_model = fit_seq2seq(X_train, y_train, X_embeddings, y_embeddings, model, \n",
    "#                                                  build_encoder_decoder=True, epochs=100, batch_size=64)"
   ]
  },
  {
   "cell_type": "code",
   "execution_count": null,
   "id": "f88f4fa1",
   "metadata": {},
   "outputs": [],
   "source": [
    "#Test\n",
    "# Prediction Encoder\n",
    "encoder_model = models.Model(inputs=x_in, outputs=[x_out, state_h, state_c], name=\"Prediction_Encoder\")\n",
    "encoder_model.summary()"
   ]
  },
  {
   "cell_type": "code",
   "execution_count": null,
   "id": "2e5d0865",
   "metadata": {},
   "outputs": [],
   "source": [
    "# Prediction Decoder\n",
    "## double the lstm units if you used bidirectional lstm\n",
    "lstm_units = lstm_units*2 if any(\"Bidirectional\" in str(layer) for layer in model.layers) else lstm_units\n",
    "\n",
    "## states of the previous time step\n",
    "x_out2 = layers.Input(shape=(X_train.shape[1], lstm_units))\n",
    "state_h, state_c = layers.Input(shape=(lstm_units,)), layers.Input(shape=(lstm_units,))\n",
    "\n",
    "## decoder embeddings\n",
    "y_emb2 = layer_y_emb(y_in)\n",
    "\n",
    "## lstm to predict the next word\n",
    "y_out2, new_state_h, new_state_c = layer_y_lstm(y_emb2, initial_state=[state_h, state_c])\n",
    "\n",
    "## softmax to generate probability distribution over the target vocabulary\n",
    "probs = layer_dense(y_out2)\n",
    "\n",
    "## compile\n",
    "decoder_model = models.Model(inputs=[y_in, x_out2, state_h, state_c], \n",
    "                             outputs=[probs, new_state_h, new_state_c],\n",
    "                             name=\"Prediction_Decoder\")\n",
    "decoder_model.summary()"
   ]
  },
  {
   "cell_type": "code",
   "execution_count": null,
   "id": "422f22eb",
   "metadata": {},
   "outputs": [],
   "source": [
    "predicted = predict_seq2seq(X_test, encoder_model, decoder_model, y_tokenizer, special_tokens)"
   ]
  },
  {
   "cell_type": "code",
   "execution_count": null,
   "id": "fcf0bfd6",
   "metadata": {},
   "outputs": [],
   "source": [
    "# Evaluate\n",
    "evaluate_summary(dtf_test[\"y_clean\"][i], predicted[i]) "
   ]
  },
  {
   "cell_type": "code",
   "execution_count": null,
   "id": "b0aa79ce",
   "metadata": {},
   "outputs": [],
   "source": [
    "# Compare y_test and predicted\n",
    "match = display_string_matching(dtf_test[\"y_clean\"][i], predicted[i], both=True, sentences=False, \n",
    "                                titles=[\"Real Summary\", \"Predicted Summary\"])\n",
    "\n",
    "from IPython.core.display import display, HTML\n",
    "display(HTML(match))"
   ]
  },
  {
   "cell_type": "code",
   "execution_count": null,
   "id": "83f6dccb",
   "metadata": {},
   "outputs": [],
   "source": [
    "# Explainability\n",
    "match = display_string_matching(dtf_test[\"text_clean\"][i], predicted[i], both=True, sentences=False, \n",
    "                                titles=[\"Full Text\", \"Predicted Summary\"])\n",
    "\n",
    "from IPython.core.display import display, HTML\n",
    "display(HTML(match))"
   ]
  },
  {
   "cell_type": "code",
   "execution_count": null,
   "id": "3ced6c2e",
   "metadata": {},
   "outputs": [],
   "source": [
    "# Predict\n",
    "max_seq_lenght = X_test.shape[1]\n",
    "predicted = []\n",
    "for x in X_test:\n",
    "   x = x.reshape(1,-1)\n",
    "   ## encode X\n",
    "   encoder_out, state_h, state_c = encoder_model.predict(x)\n",
    "   ## prepare loop\n",
    "   y_in = np.array([fitted_tokenizer.word_index[special_tokens[0]]])\n",
    "   predicted_text = \"\"\n",
    "   stop = False\n",
    "   while not stop:\n",
    "        ## predict dictionary probability distribution\n",
    "        probs, new_state_h, new_state_c = decoder_model.predict(\n",
    "                          [y_in, encoder_out, state_h, state_c])\n",
    "        \n",
    "        ## get predicted word\n",
    "        voc_idx = np.argmax(probs[0,-1,:])\n",
    "        pred_word = fitted_tokenizer.index_word[voc_idx]\n",
    "        \n",
    "        ## check stop\n",
    "        if (pred_word != special_tokens[1]) and \n",
    "           (len(predicted_text.split()) < max_seq_lenght):\n",
    "            predicted_text = predicted_text +\" \"+ pred_word\n",
    "        else:\n",
    "            stop = True\n",
    "        \n",
    "        ## next\n",
    "        y_in = np.array([voc_idx])\n",
    "        state_h, state_c = new_state_h, new_state_c\n",
    "   predicted_text = predicted_text.replace(\n",
    "                    special_tokens[0],\"\").strip()\n",
    "   predicted.append(predicted_text)"
   ]
  }
 ],
 "metadata": {
  "kernelspec": {
   "display_name": "Python 3",
   "language": "python",
   "name": "python3"
  },
  "language_info": {
   "codemirror_mode": {
    "name": "ipython",
    "version": 3
   },
   "file_extension": ".py",
   "mimetype": "text/x-python",
   "name": "python",
   "nbconvert_exporter": "python",
   "pygments_lexer": "ipython3",
   "version": "3.8.8"
  }
 },
 "nbformat": 4,
 "nbformat_minor": 5
}
